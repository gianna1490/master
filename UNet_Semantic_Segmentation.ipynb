{
  "cells": [
    {
      "cell_type": "markdown",
      "metadata": {
        "id": "view-in-github",
        "colab_type": "text"
      },
      "source": [
        "<a href=\"https://colab.research.google.com/github/gianna1490/master/blob/main/UNet_Semantic_Segmentation.ipynb\" target=\"_parent\"><img src=\"https://colab.research.google.com/assets/colab-badge.svg\" alt=\"Open In Colab\"/></a>"
      ]
    },
    {
      "cell_type": "markdown",
      "metadata": {
        "id": "pWg6Zn0Qn04x",
        "toc": true
      },
      "source": [
        "<h1>Table of Contents<span class=\"tocSkip\"></span></h1>\n",
        "<div class=\"toc\"><ul class=\"toc-item\"><li><span><a href=\"#Course:-Deep-Learning\" data-toc-modified-id=\"Course:-Deep-Learning-1\"><span class=\"toc-item-num\">1&nbsp;&nbsp;</span><strong>Course</strong>: Deep Learning</a></span></li><li><span><a href=\"#Assignment-06:-Transfer-learning-and-Fine-tuning\" data-toc-modified-id=\"Assignment-06:-Transfer-learning-and-Fine-tuning-2\"><span class=\"toc-item-num\">2&nbsp;&nbsp;</span><strong>Assignment 06:</strong> Transfer learning and Fine tuning</a></span></li><li><span><a href=\"#PyTorch\" data-toc-modified-id=\"PyTorch-3\"><span class=\"toc-item-num\">3&nbsp;&nbsp;</span><strong>PyTorch</strong></a></span></li><li><span><a href=\"#Load-packages\" data-toc-modified-id=\"Load-packages-4\"><span class=\"toc-item-num\">4&nbsp;&nbsp;</span><strong>Load packages</strong></a></span></li><li><span><a href=\"#Functions\" data-toc-modified-id=\"Functions-5\"><span class=\"toc-item-num\">5&nbsp;&nbsp;</span><strong>Functions</strong></a></span></li><li><span><a href=\"#Base-models\" data-toc-modified-id=\"Base-models-6\"><span class=\"toc-item-num\">6&nbsp;&nbsp;</span><strong>Base models</strong></a></span><ul class=\"toc-item\"><li><span><a href=\"#VGG16-model-with-top-layers-(classification-layers)\" data-toc-modified-id=\"VGG16-model-with-top-layers-(classification-layers)-6.1\"><span class=\"toc-item-num\">6.1&nbsp;&nbsp;</span><strong>VGG16</strong> model with top layers (classification layers)</a></span></li><li><span><a href=\"#VGG16-model-without-top-layers-(classification-layers):-feature-extractor,-and-its-original-input-shape.\" data-toc-modified-id=\"VGG16-model-without-top-layers-(classification-layers):-feature-extractor,-and-its-original-input-shape.-6.2\"><span class=\"toc-item-num\">6.2&nbsp;&nbsp;</span><strong>VGG16</strong> model without top layers (classification layers): feature extractor, and its original input shape.</a></span></li><li><span><a href=\"#VGG16-model-without-top-layers-(classification-layers):-feature-extractor,-and-a-different-input-shape.\" data-toc-modified-id=\"VGG16-model-without-top-layers-(classification-layers):-feature-extractor,-and-a-different-input-shape.-6.3\"><span class=\"toc-item-num\">6.3&nbsp;&nbsp;</span><strong>VGG16</strong> model without top layers (classification layers): feature extractor, and a different input shape.</a></span></li></ul></li><li><span><a href=\"#Dataset-Preparation\" data-toc-modified-id=\"Dataset-Preparation-7\"><span class=\"toc-item-num\">7&nbsp;&nbsp;</span>Dataset Preparation</a></span><ul class=\"toc-item\"><li><span><a href=\"#Variables\" data-toc-modified-id=\"Variables-7.1\"><span class=\"toc-item-num\">7.1&nbsp;&nbsp;</span><strong>Variables</strong></a></span></li><li><span><a href=\"#Download-the-dataset\" data-toc-modified-id=\"Download-the-dataset-7.2\"><span class=\"toc-item-num\">7.2&nbsp;&nbsp;</span><strong>Download the dataset</strong></a></span></li></ul></li><li><span><a href=\"#Model-Creation\" data-toc-modified-id=\"Model-Creation-8\"><span class=\"toc-item-num\">8&nbsp;&nbsp;</span>Model Creation</a></span><ul class=\"toc-item\"><li><span><a href=\"#Callback-Definition\" data-toc-modified-id=\"Callback-Definition-8.1\"><span class=\"toc-item-num\">8.1&nbsp;&nbsp;</span>Callback Definition</a></span></li></ul></li><li><span><a href=\"#Transfer-learning\" data-toc-modified-id=\"Transfer-learning-9\"><span class=\"toc-item-num\">9&nbsp;&nbsp;</span><strong>Transfer learning</strong></a></span></li><li><span><a href=\"#Fine-tuning\" data-toc-modified-id=\"Fine-tuning-10\"><span class=\"toc-item-num\">10&nbsp;&nbsp;</span><strong>Fine tuning</strong></a></span></li></ul></div>"
      ]
    },
    {
      "cell_type": "markdown",
      "metadata": {
        "id": "a10r9fsDpg_5"
      },
      "source": [
        "## **Course**: Deep Learning\n",
        "\n",
        "[<img align=\"right\" width=\"400\" height=\"100\" src=\"https://www.tu-braunschweig.de/typo3conf/ext/tu_braunschweig/Resources/Public/Images/Logos/tu_braunschweig_logo.svg\">](https://www.tu-braunschweig.de/en/)\n",
        "\n",
        "[Mehdi Maboudi](https://www.tu-braunschweig.de/en/igp/staff/mehdi-maboudi) \\([m.maboudi@tu-bs.de](m.maboudi@tu-bs.de)) and [Pedro Achanccaray](https://www.tu-braunschweig.de/en/igp/staff/pedro-diaz) (p.diaz@tu-bs.de)\n",
        "\n",
        "[Technical University of Braunschweig](https://www.tu-braunschweig.de/en/)\n",
        "[Institute of Geodesy and Photogrammetry](https://www.tu-braunschweig.de/igp)"
      ]
    },
    {
      "cell_type": "code",
      "execution_count": null,
      "metadata": {
        "ExecuteTime": {
          "end_time": "2023-06-18T17:19:22.462596Z",
          "start_time": "2023-06-18T17:19:22.340094Z"
        },
        "id": "ZTJN503zn042",
        "outputId": "61ad2fa9-5198-44f0-848d-fb6c571732a3"
      },
      "outputs": [
        {
          "data": {
            "application/javascript": [
              "\n",
              "            setTimeout(function() {\n",
              "                var nbb_cell_id = 1;\n",
              "                var nbb_unformatted_code = \"%load_ext nb_black\";\n",
              "                var nbb_formatted_code = \"%load_ext nb_black\";\n",
              "                var nbb_cells = Jupyter.notebook.get_cells();\n",
              "                for (var i = 0; i < nbb_cells.length; ++i) {\n",
              "                    if (nbb_cells[i].input_prompt_number == nbb_cell_id) {\n",
              "                        if (nbb_cells[i].get_text() == nbb_unformatted_code) {\n",
              "                             nbb_cells[i].set_text(nbb_formatted_code);\n",
              "                        }\n",
              "                        break;\n",
              "                    }\n",
              "                }\n",
              "            }, 500);\n",
              "            "
            ],
            "text/plain": [
              "<IPython.core.display.Javascript object>"
            ]
          },
          "metadata": {},
          "output_type": "display_data"
        }
      ],
      "source": [
        "%load_ext nb_black"
      ]
    },
    {
      "cell_type": "markdown",
      "metadata": {
        "id": "ojJa7RUApi3L"
      },
      "source": [
        "## **Assignment 06:** Transfer learning and Fine tuning"
      ]
    },
    {
      "cell_type": "markdown",
      "metadata": {
        "id": "mJy_gXvGpyfu"
      },
      "source": [
        "In this assignment you will explore the differences between transfer learning and fine tuning.\n",
        "\n",
        "For this, you will use the **VGG16** pre-trained network with **ImageNet** dataset.\n",
        "\n",
        "<center>\n",
        "<img width=600 src=\"https://miro.medium.com/max/1400/1*NNifzsJ7tD2kAfBXt3AzEg.png\" img>\n",
        "\n",
        "</center>"
      ]
    },
    {
      "cell_type": "markdown",
      "metadata": {
        "id": "0__nx5Zg4G9Y"
      },
      "source": [
        "- **Transfer learning:**\n",
        "  1. Take a pre-trained model as $base\\_model$\n",
        "  2. Freeze the $base\\_model$\n",
        "  3. Add a $head$ (classification layers) to the $base\\_model$\n",
        "  4. Train the new model\n",
        "  5. $trainable\\_parameters = head\\_parameters $\n",
        "\n",
        "- **Fine tuning:**\n",
        "  1. Take a pre-trained model as $base\\_model$\n",
        "  2. Freeze some layers of the $base\\_model$\n",
        "  3. Add a $head$ (classification layers) to the $base\\_model$\n",
        "  4. Train the new model\n",
        "  5. $trainable\\_parameters = head\\_parameters + base\\_model\\_parameters $"
      ]
    },
    {
      "cell_type": "markdown",
      "metadata": {
        "id": "o0JRDMT9yuRd"
      },
      "source": [
        "## **PyTorch**"
      ]
    },
    {
      "cell_type": "markdown",
      "metadata": {
        "id": "dTbDgDzUv0fR"
      },
      "source": [
        "For PyTorch, you can visit the following links:\n",
        "- [VGG16 PyTorch documentation](https://pytorch.org/vision/main/models/generated/torchvision.models.vgg16.html)\n",
        "- [Transfer learning with PyTorch](https://debuggercafe.com/transfer-learning-with-pytorch/)\n",
        "- [Freeze layers of PyTorch model](https://medium.com/@shuklaatul032/freeze-layers-of-pytorch-model-48d2725223b3)\n"
      ]
    },
    {
      "cell_type": "markdown",
      "metadata": {
        "id": "GofutGvjtSOZ"
      },
      "source": [
        "## **Load packages**"
      ]
    },
    {
      "cell_type": "code",
      "execution_count": null,
      "metadata": {
        "ExecuteTime": {
          "end_time": "2023-06-18T17:19:30.583326Z",
          "start_time": "2023-06-18T17:19:24.030343Z"
        },
        "colab": {
          "base_uri": "https://localhost:8080/"
        },
        "id": "-ulQ-h_4pW6J",
        "outputId": "7d6e2451-a310-49bd-9be2-4ce56e568009"
      },
      "outputs": [
        {
          "name": "stdout",
          "output_type": "stream",
          "text": [
            "Looking in indexes: https://pypi.org/simple, https://pypi.ngc.nvidia.com\n",
            "Requirement already satisfied: livelossplot in c:\\users\\psraj\\miniconda3\\envs\\d_l\\lib\\site-packages (0.5.5)\n",
            "Requirement already satisfied: matplotlib in c:\\users\\psraj\\miniconda3\\envs\\d_l\\lib\\site-packages (from livelossplot) (3.7.1)\n",
            "Requirement already satisfied: bokeh in c:\\users\\psraj\\miniconda3\\envs\\d_l\\lib\\site-packages (from livelossplot) (3.1.1)\n",
            "Requirement already satisfied: Jinja2>=2.9 in c:\\users\\psraj\\miniconda3\\envs\\d_l\\lib\\site-packages (from bokeh->livelossplot) (3.1.2)\n",
            "Requirement already satisfied: contourpy>=1 in c:\\users\\psraj\\miniconda3\\envs\\d_l\\lib\\site-packages (from bokeh->livelossplot) (1.1.0)\n",
            "Requirement already satisfied: numpy>=1.16 in c:\\users\\psraj\\miniconda3\\envs\\d_l\\lib\\site-packages (from bokeh->livelossplot) (1.24.3)\n",
            "Requirement already satisfied: packaging>=16.8 in c:\\users\\psraj\\miniconda3\\envs\\d_l\\lib\\site-packages (from bokeh->livelossplot) (23.1)\n",
            "Requirement already satisfied: pandas>=1.2 in c:\\users\\psraj\\miniconda3\\envs\\d_l\\lib\\site-packages (from bokeh->livelossplot) (2.0.2)\n",
            "Requirement already satisfied: pillow>=7.1.0 in c:\\users\\psraj\\miniconda3\\envs\\d_l\\lib\\site-packages (from bokeh->livelossplot) (9.5.0)\n",
            "Requirement already satisfied: PyYAML>=3.10 in c:\\users\\psraj\\miniconda3\\envs\\d_l\\lib\\site-packages (from bokeh->livelossplot) (6.0)\n",
            "Requirement already satisfied: tornado>=5.1 in c:\\users\\psraj\\miniconda3\\envs\\d_l\\lib\\site-packages (from bokeh->livelossplot) (6.3.2)\n",
            "Requirement already satisfied: xyzservices>=2021.09.1 in c:\\users\\psraj\\miniconda3\\envs\\d_l\\lib\\site-packages (from bokeh->livelossplot) (2023.5.0)\n",
            "Requirement already satisfied: cycler>=0.10 in c:\\users\\psraj\\miniconda3\\envs\\d_l\\lib\\site-packages (from matplotlib->livelossplot) (0.11.0)\n",
            "Requirement already satisfied: fonttools>=4.22.0 in c:\\users\\psraj\\miniconda3\\envs\\d_l\\lib\\site-packages (from matplotlib->livelossplot) (4.40.0)\n",
            "Requirement already satisfied: kiwisolver>=1.0.1 in c:\\users\\psraj\\miniconda3\\envs\\d_l\\lib\\site-packages (from matplotlib->livelossplot) (1.4.4)\n",
            "Requirement already satisfied: pyparsing>=2.3.1 in c:\\users\\psraj\\miniconda3\\envs\\d_l\\lib\\site-packages (from matplotlib->livelossplot) (3.0.9)\n",
            "Requirement already satisfied: python-dateutil>=2.7 in c:\\users\\psraj\\miniconda3\\envs\\d_l\\lib\\site-packages (from matplotlib->livelossplot) (2.8.2)\n",
            "Requirement already satisfied: importlib-resources>=3.2.0 in c:\\users\\psraj\\miniconda3\\envs\\d_l\\lib\\site-packages (from matplotlib->livelossplot) (5.12.0)\n",
            "Requirement already satisfied: zipp>=3.1.0 in c:\\users\\psraj\\miniconda3\\envs\\d_l\\lib\\site-packages (from importlib-resources>=3.2.0->matplotlib->livelossplot) (3.15.0)\n",
            "Requirement already satisfied: MarkupSafe>=2.0 in c:\\users\\psraj\\miniconda3\\envs\\d_l\\lib\\site-packages (from Jinja2>=2.9->bokeh->livelossplot) (2.1.3)\n",
            "Requirement already satisfied: pytz>=2020.1 in c:\\users\\psraj\\miniconda3\\envs\\d_l\\lib\\site-packages (from pandas>=1.2->bokeh->livelossplot) (2023.3)\n",
            "Requirement already satisfied: tzdata>=2022.1 in c:\\users\\psraj\\miniconda3\\envs\\d_l\\lib\\site-packages (from pandas>=1.2->bokeh->livelossplot) (2023.3)\n",
            "Requirement already satisfied: six>=1.5 in c:\\users\\psraj\\miniconda3\\envs\\d_l\\lib\\site-packages (from python-dateutil>=2.7->matplotlib->livelossplot) (1.16.0)\n"
          ]
        },
        {
          "data": {
            "application/javascript": [
              "\n",
              "            setTimeout(function() {\n",
              "                var nbb_cell_id = 2;\n",
              "                var nbb_unformatted_code = \"import tensorflow as tf\\nfrom tensorflow import keras\\nfrom tensorflow.keras.models import Model\\n\\nfrom tensorflow.keras.layers import (\\n    Dense,\\n    Input,\\n    GlobalAveragePooling2D,\\n    Flatten,\\n    Dropout,\\n    BatchNormalization,\\n)\\n\\nfrom tensorflow.keras.optimizers import Adam\\nfrom tensorflow.keras.applications.vgg16 import VGG16, preprocess_input\\n\\n# Callbacks\\nfrom tensorflow.keras.callbacks import (\\n    ModelCheckpoint,\\n    EarlyStopping,\\n    TensorBoard,\\n    LearningRateScheduler,\\n    ReduceLROnPlateau,\\n)\\nfrom tensorflow.keras.regularizers import l2\\n\\nfrom tensorflow.keras.initializers import GlorotUniform\\n\\nimport numpy as np\\nimport os\\nimport random\\n\\n# External files with functions to load the dataset,\\nfrom importlib import reload\\nimport datasets\\nimport data_generator\\n\\n# to plot each epoch of the training\\n!pip install livelossplot\\nfrom livelossplot.inputs.keras import PlotLossesCallback\\n\\n\\n# Useful to reload modified external files without need\\n# of restarting the kernel. Just run again this cell.\\nreload(datasets)\\nreload(data_generator)\\n\\nfrom datasets import *\\nfrom data_generator import *\";\n",
              "                var nbb_formatted_code = \"import tensorflow as tf\\nfrom tensorflow import keras\\nfrom tensorflow.keras.models import Model\\n\\nfrom tensorflow.keras.layers import (\\n    Dense,\\n    Input,\\n    GlobalAveragePooling2D,\\n    Flatten,\\n    Dropout,\\n    BatchNormalization,\\n)\\n\\nfrom tensorflow.keras.optimizers import Adam\\nfrom tensorflow.keras.applications.vgg16 import VGG16, preprocess_input\\n\\n# Callbacks\\nfrom tensorflow.keras.callbacks import (\\n    ModelCheckpoint,\\n    EarlyStopping,\\n    TensorBoard,\\n    LearningRateScheduler,\\n    ReduceLROnPlateau,\\n)\\nfrom tensorflow.keras.regularizers import l2\\n\\nfrom tensorflow.keras.initializers import GlorotUniform\\n\\nimport numpy as np\\nimport os\\nimport random\\n\\n# External files with functions to load the dataset,\\nfrom importlib import reload\\nimport datasets\\nimport data_generator\\n\\n# to plot each epoch of the training\\n!pip install livelossplot\\nfrom livelossplot.inputs.keras import PlotLossesCallback\\n\\n\\n# Useful to reload modified external files without need\\n# of restarting the kernel. Just run again this cell.\\nreload(datasets)\\nreload(data_generator)\\n\\nfrom datasets import *\\nfrom data_generator import *\";\n",
              "                var nbb_cells = Jupyter.notebook.get_cells();\n",
              "                for (var i = 0; i < nbb_cells.length; ++i) {\n",
              "                    if (nbb_cells[i].input_prompt_number == nbb_cell_id) {\n",
              "                        if (nbb_cells[i].get_text() == nbb_unformatted_code) {\n",
              "                             nbb_cells[i].set_text(nbb_formatted_code);\n",
              "                        }\n",
              "                        break;\n",
              "                    }\n",
              "                }\n",
              "            }, 500);\n",
              "            "
            ],
            "text/plain": [
              "<IPython.core.display.Javascript object>"
            ]
          },
          "metadata": {},
          "output_type": "display_data"
        }
      ],
      "source": [
        "import tensorflow as tf\n",
        "from tensorflow import keras\n",
        "from tensorflow.keras.models import Model\n",
        "\n",
        "from tensorflow.keras.layers import (\n",
        "    Dense,\n",
        "    Input,\n",
        "    GlobalAveragePooling2D,\n",
        "    Flatten,\n",
        "    Dropout,\n",
        "    BatchNormalization,\n",
        ")\n",
        "\n",
        "from tensorflow.keras.optimizers import Adam\n",
        "from tensorflow.keras.applications.vgg16 import VGG16, preprocess_input\n",
        "\n",
        "# Callbacks\n",
        "from tensorflow.keras.callbacks import (\n",
        "    ModelCheckpoint,\n",
        "    EarlyStopping,\n",
        "    TensorBoard,\n",
        "    LearningRateScheduler,\n",
        "    ReduceLROnPlateau,\n",
        ")\n",
        "from tensorflow.keras.regularizers import l2\n",
        "\n",
        "from tensorflow.keras.initializers import GlorotUniform\n",
        "\n",
        "import numpy as np\n",
        "import os\n",
        "import random\n",
        "\n",
        "# External files with functions to load the dataset,\n",
        "from importlib import reload\n",
        "import datasets\n",
        "import data_generator\n",
        "\n",
        "# to plot each epoch of the training\n",
        "!pip install livelossplot\n",
        "from livelossplot.inputs.keras import PlotLossesCallback\n",
        "\n",
        "\n",
        "# Useful to reload modified external files without need\n",
        "# of restarting the kernel. Just run again this cell.\n",
        "reload(datasets)\n",
        "reload(data_generator)\n",
        "\n",
        "from datasets import *\n",
        "from data_generator import *"
      ]
    },
    {
      "cell_type": "code",
      "execution_count": null,
      "metadata": {
        "ExecuteTime": {
          "end_time": "2023-06-18T17:19:30.599360Z",
          "start_time": "2023-06-18T17:19:30.585343Z"
        },
        "id": "9RDa8VNSn046",
        "outputId": "29dc1f20-0013-4cfe-cacb-d969f055e206"
      },
      "outputs": [
        {
          "data": {
            "application/javascript": [
              "\n",
              "            setTimeout(function() {\n",
              "                var nbb_cell_id = 3;\n",
              "                var nbb_unformatted_code = \"os.environ[\\\"PYTHONHASHSEED\\\"] = str(42)\\n\\n\\ndef reset_seeds():\\n    os.environ[\\\"PYTHONHASHSEED\\\"] = str(42)\\n    tf.random.set_seed(42)\\n    np.random.seed(42)\\n    random.seed(42)\";\n",
              "                var nbb_formatted_code = \"os.environ[\\\"PYTHONHASHSEED\\\"] = str(42)\\n\\n\\ndef reset_seeds():\\n    os.environ[\\\"PYTHONHASHSEED\\\"] = str(42)\\n    tf.random.set_seed(42)\\n    np.random.seed(42)\\n    random.seed(42)\";\n",
              "                var nbb_cells = Jupyter.notebook.get_cells();\n",
              "                for (var i = 0; i < nbb_cells.length; ++i) {\n",
              "                    if (nbb_cells[i].input_prompt_number == nbb_cell_id) {\n",
              "                        if (nbb_cells[i].get_text() == nbb_unformatted_code) {\n",
              "                             nbb_cells[i].set_text(nbb_formatted_code);\n",
              "                        }\n",
              "                        break;\n",
              "                    }\n",
              "                }\n",
              "            }, 500);\n",
              "            "
            ],
            "text/plain": [
              "<IPython.core.display.Javascript object>"
            ]
          },
          "metadata": {},
          "output_type": "display_data"
        }
      ],
      "source": [
        "os.environ[\"PYTHONHASHSEED\"] = str(42)\n",
        "\n",
        "\n",
        "def reset_seeds():\n",
        "    os.environ[\"PYTHONHASHSEED\"] = str(42)\n",
        "    tf.random.set_seed(42)\n",
        "    np.random.seed(42)\n",
        "    random.seed(42)"
      ]
    },
    {
      "cell_type": "markdown",
      "metadata": {
        "hide_input": true,
        "id": "1lHJ0P-gtWmW"
      },
      "source": [
        "## **Functions**"
      ]
    },
    {
      "cell_type": "code",
      "execution_count": null,
      "metadata": {
        "ExecuteTime": {
          "end_time": "2023-06-18T17:19:30.630338Z",
          "start_time": "2023-06-18T17:19:30.601327Z"
        },
        "id": "1ptI9WsMsYt6",
        "outputId": "52a54f7a-5643-4d54-96a5-c688cfe9369c"
      },
      "outputs": [
        {
          "data": {
            "application/javascript": [
              "\n",
              "            setTimeout(function() {\n",
              "                var nbb_cell_id = 4;\n",
              "                var nbb_unformatted_code = \"def freeze_up_to(model, freeze_layer_name):\\n    \\\"\\\"\\\"Function to freeze some layers of the model\\n\\n    Args:\\n        model (keras.Model): a keras.Model\\n        freeze_layer_name (str): layer name of \\\"model\\\". All layers up\\n          to this layer will be freezed.\\n\\n    Returns:\\n        keras.Model: a keras.Model with some layers freezed.\\n    \\\"\\\"\\\"\\n    # Getting layer number based on layer name\\n    for id_layer, layer in enumerate(model.layers):\\n        if layer.name == freeze_layer_name:\\n            layer_number = id_layer\\n            break\\n\\n    # Froze layers\\n    for layer in model.layers[:layer_number]:\\n        layer.trainable = False\\n\\n    return model\";\n",
              "                var nbb_formatted_code = \"def freeze_up_to(model, freeze_layer_name):\\n    \\\"\\\"\\\"Function to freeze some layers of the model\\n\\n    Args:\\n        model (keras.Model): a keras.Model\\n        freeze_layer_name (str): layer name of \\\"model\\\". All layers up\\n          to this layer will be freezed.\\n\\n    Returns:\\n        keras.Model: a keras.Model with some layers freezed.\\n    \\\"\\\"\\\"\\n    # Getting layer number based on layer name\\n    for id_layer, layer in enumerate(model.layers):\\n        if layer.name == freeze_layer_name:\\n            layer_number = id_layer\\n            break\\n\\n    # Froze layers\\n    for layer in model.layers[:layer_number]:\\n        layer.trainable = False\\n\\n    return model\";\n",
              "                var nbb_cells = Jupyter.notebook.get_cells();\n",
              "                for (var i = 0; i < nbb_cells.length; ++i) {\n",
              "                    if (nbb_cells[i].input_prompt_number == nbb_cell_id) {\n",
              "                        if (nbb_cells[i].get_text() == nbb_unformatted_code) {\n",
              "                             nbb_cells[i].set_text(nbb_formatted_code);\n",
              "                        }\n",
              "                        break;\n",
              "                    }\n",
              "                }\n",
              "            }, 500);\n",
              "            "
            ],
            "text/plain": [
              "<IPython.core.display.Javascript object>"
            ]
          },
          "metadata": {},
          "output_type": "display_data"
        }
      ],
      "source": [
        "def freeze_up_to(model, freeze_layer_name):\n",
        "    \"\"\"Function to freeze some layers of the model\n",
        "\n",
        "    Args:\n",
        "        model (keras.Model): a keras.Model\n",
        "        freeze_layer_name (str): layer name of \"model\". All layers up\n",
        "          to this layer will be freezed.\n",
        "\n",
        "    Returns:\n",
        "        keras.Model: a keras.Model with some layers freezed.\n",
        "    \"\"\"\n",
        "    # Getting layer number based on layer name\n",
        "    for id_layer, layer in enumerate(model.layers):\n",
        "        if layer.name == freeze_layer_name:\n",
        "            layer_number = id_layer\n",
        "            break\n",
        "\n",
        "    # Froze layers\n",
        "    for layer in model.layers[:layer_number]:\n",
        "        layer.trainable = False\n",
        "\n",
        "    return model"
      ]
    },
    {
      "cell_type": "markdown",
      "metadata": {
        "id": "kanUzPrltfD4"
      },
      "source": [
        "## **Base models**"
      ]
    },
    {
      "cell_type": "markdown",
      "metadata": {
        "id": "H0icG9OIvHcc"
      },
      "source": [
        "### **VGG16** model with top layers (classification layers)"
      ]
    },
    {
      "cell_type": "code",
      "execution_count": null,
      "metadata": {
        "ExecuteTime": {
          "end_time": "2023-06-18T17:19:32.652441Z",
          "start_time": "2023-06-18T17:19:30.633344Z"
        },
        "colab": {
          "base_uri": "https://localhost:8080/"
        },
        "id": "2mBtSBH7u-Fp",
        "outputId": "90967165-3ea8-410d-b129-2e0cb19f2c3a"
      },
      "outputs": [
        {
          "name": "stdout",
          "output_type": "stream",
          "text": [
            "Model: \"vgg16\"\n",
            "_________________________________________________________________\n",
            " Layer (type)                Output Shape              Param #   \n",
            "=================================================================\n",
            " input_1 (InputLayer)        [(None, 224, 224, 3)]     0         \n",
            "                                                                 \n",
            " block1_conv1 (Conv2D)       (None, 224, 224, 64)      1792      \n",
            "                                                                 \n",
            " block1_conv2 (Conv2D)       (None, 224, 224, 64)      36928     \n",
            "                                                                 \n",
            " block1_pool (MaxPooling2D)  (None, 112, 112, 64)      0         \n",
            "                                                                 \n",
            " block2_conv1 (Conv2D)       (None, 112, 112, 128)     73856     \n",
            "                                                                 \n",
            " block2_conv2 (Conv2D)       (None, 112, 112, 128)     147584    \n",
            "                                                                 \n",
            " block2_pool (MaxPooling2D)  (None, 56, 56, 128)       0         \n",
            "                                                                 \n",
            " block3_conv1 (Conv2D)       (None, 56, 56, 256)       295168    \n",
            "                                                                 \n",
            " block3_conv2 (Conv2D)       (None, 56, 56, 256)       590080    \n",
            "                                                                 \n",
            " block3_conv3 (Conv2D)       (None, 56, 56, 256)       590080    \n",
            "                                                                 \n",
            " block3_pool (MaxPooling2D)  (None, 28, 28, 256)       0         \n",
            "                                                                 \n",
            " block4_conv1 (Conv2D)       (None, 28, 28, 512)       1180160   \n",
            "                                                                 \n",
            " block4_conv2 (Conv2D)       (None, 28, 28, 512)       2359808   \n",
            "                                                                 \n",
            " block4_conv3 (Conv2D)       (None, 28, 28, 512)       2359808   \n",
            "                                                                 \n",
            " block4_pool (MaxPooling2D)  (None, 14, 14, 512)       0         \n",
            "                                                                 \n",
            " block5_conv1 (Conv2D)       (None, 14, 14, 512)       2359808   \n",
            "                                                                 \n",
            " block5_conv2 (Conv2D)       (None, 14, 14, 512)       2359808   \n",
            "                                                                 \n",
            " block5_conv3 (Conv2D)       (None, 14, 14, 512)       2359808   \n",
            "                                                                 \n",
            " block5_pool (MaxPooling2D)  (None, 7, 7, 512)         0         \n",
            "                                                                 \n",
            " flatten (Flatten)           (None, 25088)             0         \n",
            "                                                                 \n",
            " fc1 (Dense)                 (None, 4096)              102764544 \n",
            "                                                                 \n",
            " fc2 (Dense)                 (None, 4096)              16781312  \n",
            "                                                                 \n",
            " predictions (Dense)         (None, 1000)              4097000   \n",
            "                                                                 \n",
            "=================================================================\n",
            "Total params: 138,357,544\n",
            "Trainable params: 138,357,544\n",
            "Non-trainable params: 0\n",
            "_________________________________________________________________\n"
          ]
        },
        {
          "data": {
            "application/javascript": [
              "\n",
              "            setTimeout(function() {\n",
              "                var nbb_cell_id = 5;\n",
              "                var nbb_unformatted_code = \"vgg16_full = VGG16(include_top=True, weights=\\\"imagenet\\\", input_shape=(224, 224, 3))\\n\\nvgg16_full.summary()\";\n",
              "                var nbb_formatted_code = \"vgg16_full = VGG16(include_top=True, weights=\\\"imagenet\\\", input_shape=(224, 224, 3))\\n\\nvgg16_full.summary()\";\n",
              "                var nbb_cells = Jupyter.notebook.get_cells();\n",
              "                for (var i = 0; i < nbb_cells.length; ++i) {\n",
              "                    if (nbb_cells[i].input_prompt_number == nbb_cell_id) {\n",
              "                        if (nbb_cells[i].get_text() == nbb_unformatted_code) {\n",
              "                             nbb_cells[i].set_text(nbb_formatted_code);\n",
              "                        }\n",
              "                        break;\n",
              "                    }\n",
              "                }\n",
              "            }, 500);\n",
              "            "
            ],
            "text/plain": [
              "<IPython.core.display.Javascript object>"
            ]
          },
          "metadata": {},
          "output_type": "display_data"
        }
      ],
      "source": [
        "vgg16_full = VGG16(include_top=True, weights=\"imagenet\", input_shape=(224, 224, 3))\n",
        "\n",
        "vgg16_full.summary()"
      ]
    },
    {
      "cell_type": "markdown",
      "metadata": {
        "id": "yYyU6UOwy4kK"
      },
      "source": [
        "### **VGG16** model without top layers (classification layers): feature extractor, and its original input shape."
      ]
    },
    {
      "cell_type": "code",
      "execution_count": null,
      "metadata": {
        "ExecuteTime": {
          "end_time": "2023-06-18T17:19:32.965059Z",
          "start_time": "2023-06-18T17:19:32.654446Z"
        },
        "colab": {
          "base_uri": "https://localhost:8080/"
        },
        "id": "fM5ogDeGtgl1",
        "outputId": "24d4ddb1-1a5a-44d1-9351-e7d800296f43"
      },
      "outputs": [
        {
          "name": "stdout",
          "output_type": "stream",
          "text": [
            "Model: \"vgg16\"\n",
            "_________________________________________________________________\n",
            " Layer (type)                Output Shape              Param #   \n",
            "=================================================================\n",
            " input_2 (InputLayer)        [(None, 224, 224, 3)]     0         \n",
            "                                                                 \n",
            " block1_conv1 (Conv2D)       (None, 224, 224, 64)      1792      \n",
            "                                                                 \n",
            " block1_conv2 (Conv2D)       (None, 224, 224, 64)      36928     \n",
            "                                                                 \n",
            " block1_pool (MaxPooling2D)  (None, 112, 112, 64)      0         \n",
            "                                                                 \n",
            " block2_conv1 (Conv2D)       (None, 112, 112, 128)     73856     \n",
            "                                                                 \n",
            " block2_conv2 (Conv2D)       (None, 112, 112, 128)     147584    \n",
            "                                                                 \n",
            " block2_pool (MaxPooling2D)  (None, 56, 56, 128)       0         \n",
            "                                                                 \n",
            " block3_conv1 (Conv2D)       (None, 56, 56, 256)       295168    \n",
            "                                                                 \n",
            " block3_conv2 (Conv2D)       (None, 56, 56, 256)       590080    \n",
            "                                                                 \n",
            " block3_conv3 (Conv2D)       (None, 56, 56, 256)       590080    \n",
            "                                                                 \n",
            " block3_pool (MaxPooling2D)  (None, 28, 28, 256)       0         \n",
            "                                                                 \n",
            " block4_conv1 (Conv2D)       (None, 28, 28, 512)       1180160   \n",
            "                                                                 \n",
            " block4_conv2 (Conv2D)       (None, 28, 28, 512)       2359808   \n",
            "                                                                 \n",
            " block4_conv3 (Conv2D)       (None, 28, 28, 512)       2359808   \n",
            "                                                                 \n",
            " block4_pool (MaxPooling2D)  (None, 14, 14, 512)       0         \n",
            "                                                                 \n",
            " block5_conv1 (Conv2D)       (None, 14, 14, 512)       2359808   \n",
            "                                                                 \n",
            " block5_conv2 (Conv2D)       (None, 14, 14, 512)       2359808   \n",
            "                                                                 \n",
            " block5_conv3 (Conv2D)       (None, 14, 14, 512)       2359808   \n",
            "                                                                 \n",
            " block5_pool (MaxPooling2D)  (None, 7, 7, 512)         0         \n",
            "                                                                 \n",
            "=================================================================\n",
            "Total params: 14,714,688\n",
            "Trainable params: 14,714,688\n",
            "Non-trainable params: 0\n",
            "_________________________________________________________________\n"
          ]
        },
        {
          "data": {
            "application/javascript": [
              "\n",
              "            setTimeout(function() {\n",
              "                var nbb_cell_id = 6;\n",
              "                var nbb_unformatted_code = \"vgg16_base = VGG16(include_top=False, weights=\\\"imagenet\\\", input_shape=(224, 224, 3))\\n\\nvgg16_base.summary()\";\n",
              "                var nbb_formatted_code = \"vgg16_base = VGG16(include_top=False, weights=\\\"imagenet\\\", input_shape=(224, 224, 3))\\n\\nvgg16_base.summary()\";\n",
              "                var nbb_cells = Jupyter.notebook.get_cells();\n",
              "                for (var i = 0; i < nbb_cells.length; ++i) {\n",
              "                    if (nbb_cells[i].input_prompt_number == nbb_cell_id) {\n",
              "                        if (nbb_cells[i].get_text() == nbb_unformatted_code) {\n",
              "                             nbb_cells[i].set_text(nbb_formatted_code);\n",
              "                        }\n",
              "                        break;\n",
              "                    }\n",
              "                }\n",
              "            }, 500);\n",
              "            "
            ],
            "text/plain": [
              "<IPython.core.display.Javascript object>"
            ]
          },
          "metadata": {},
          "output_type": "display_data"
        }
      ],
      "source": [
        "vgg16_base = VGG16(include_top=False, weights=\"imagenet\", input_shape=(224, 224, 3))\n",
        "\n",
        "vgg16_base.summary()"
      ]
    },
    {
      "cell_type": "markdown",
      "metadata": {
        "id": "EbJM8HtezDHg"
      },
      "source": [
        "### **VGG16** model without top layers (classification layers): feature extractor, and a different input shape."
      ]
    },
    {
      "cell_type": "code",
      "execution_count": null,
      "metadata": {
        "ExecuteTime": {
          "end_time": "2023-06-18T17:19:33.273876Z",
          "start_time": "2023-06-18T17:19:32.967057Z"
        },
        "colab": {
          "base_uri": "https://localhost:8080/"
        },
        "id": "Yd5CC8M6ul4C",
        "outputId": "75a5021b-c34e-4fc0-e664-1b0d784917ed"
      },
      "outputs": [
        {
          "name": "stdout",
          "output_type": "stream",
          "text": [
            "Model: \"vgg16\"\n",
            "_________________________________________________________________\n",
            " Layer (type)                Output Shape              Param #   \n",
            "=================================================================\n",
            " input_3 (InputLayer)        [(None, 160, 160, 3)]     0         \n",
            "                                                                 \n",
            " block1_conv1 (Conv2D)       (None, 160, 160, 64)      1792      \n",
            "                                                                 \n",
            " block1_conv2 (Conv2D)       (None, 160, 160, 64)      36928     \n",
            "                                                                 \n",
            " block1_pool (MaxPooling2D)  (None, 80, 80, 64)        0         \n",
            "                                                                 \n",
            " block2_conv1 (Conv2D)       (None, 80, 80, 128)       73856     \n",
            "                                                                 \n",
            " block2_conv2 (Conv2D)       (None, 80, 80, 128)       147584    \n",
            "                                                                 \n",
            " block2_pool (MaxPooling2D)  (None, 40, 40, 128)       0         \n",
            "                                                                 \n",
            " block3_conv1 (Conv2D)       (None, 40, 40, 256)       295168    \n",
            "                                                                 \n",
            " block3_conv2 (Conv2D)       (None, 40, 40, 256)       590080    \n",
            "                                                                 \n",
            " block3_conv3 (Conv2D)       (None, 40, 40, 256)       590080    \n",
            "                                                                 \n",
            " block3_pool (MaxPooling2D)  (None, 20, 20, 256)       0         \n",
            "                                                                 \n",
            " block4_conv1 (Conv2D)       (None, 20, 20, 512)       1180160   \n",
            "                                                                 \n",
            " block4_conv2 (Conv2D)       (None, 20, 20, 512)       2359808   \n",
            "                                                                 \n",
            " block4_conv3 (Conv2D)       (None, 20, 20, 512)       2359808   \n",
            "                                                                 \n",
            " block4_pool (MaxPooling2D)  (None, 10, 10, 512)       0         \n",
            "                                                                 \n",
            " block5_conv1 (Conv2D)       (None, 10, 10, 512)       2359808   \n",
            "                                                                 \n",
            " block5_conv2 (Conv2D)       (None, 10, 10, 512)       2359808   \n",
            "                                                                 \n",
            " block5_conv3 (Conv2D)       (None, 10, 10, 512)       2359808   \n",
            "                                                                 \n",
            " block5_pool (MaxPooling2D)  (None, 5, 5, 512)         0         \n",
            "                                                                 \n",
            "=================================================================\n",
            "Total params: 14,714,688\n",
            "Trainable params: 14,714,688\n",
            "Non-trainable params: 0\n",
            "_________________________________________________________________\n"
          ]
        },
        {
          "data": {
            "application/javascript": [
              "\n",
              "            setTimeout(function() {\n",
              "                var nbb_cell_id = 7;\n",
              "                var nbb_unformatted_code = \"vgg16_dif_input = VGG16(\\n    include_top=False, weights=\\\"imagenet\\\", input_shape=(160, 160, 3)\\n)\\n\\nvgg16_dif_input.summary()\";\n",
              "                var nbb_formatted_code = \"vgg16_dif_input = VGG16(\\n    include_top=False, weights=\\\"imagenet\\\", input_shape=(160, 160, 3)\\n)\\n\\nvgg16_dif_input.summary()\";\n",
              "                var nbb_cells = Jupyter.notebook.get_cells();\n",
              "                for (var i = 0; i < nbb_cells.length; ++i) {\n",
              "                    if (nbb_cells[i].input_prompt_number == nbb_cell_id) {\n",
              "                        if (nbb_cells[i].get_text() == nbb_unformatted_code) {\n",
              "                             nbb_cells[i].set_text(nbb_formatted_code);\n",
              "                        }\n",
              "                        break;\n",
              "                    }\n",
              "                }\n",
              "            }, 500);\n",
              "            "
            ],
            "text/plain": [
              "<IPython.core.display.Javascript object>"
            ]
          },
          "metadata": {},
          "output_type": "display_data"
        }
      ],
      "source": [
        "vgg16_dif_input = VGG16(\n",
        "    include_top=False, weights=\"imagenet\", input_shape=(160, 160, 3)\n",
        ")\n",
        "\n",
        "vgg16_dif_input.summary()"
      ]
    },
    {
      "cell_type": "markdown",
      "metadata": {
        "id": "6ku9MIvYn048"
      },
      "source": [
        "## Dataset Preparation"
      ]
    },
    {
      "cell_type": "code",
      "execution_count": null,
      "metadata": {
        "ExecuteTime": {
          "end_time": "2023-06-18T17:19:33.289877Z",
          "start_time": "2023-06-18T17:19:33.275877Z"
        },
        "id": "FuJ8KFQ1Mzub",
        "outputId": "29aeda56-e848-4ff2-acf2-ad35d8d68290"
      },
      "outputs": [
        {
          "data": {
            "text/plain": [
              "[PhysicalDevice(name='/physical_device:GPU:0', device_type='GPU')]"
            ]
          },
          "execution_count": 8,
          "metadata": {},
          "output_type": "execute_result"
        },
        {
          "data": {
            "application/javascript": [
              "\n",
              "            setTimeout(function() {\n",
              "                var nbb_cell_id = 8;\n",
              "                var nbb_unformatted_code = \"tf.config.list_physical_devices(\\\"GPU\\\")\";\n",
              "                var nbb_formatted_code = \"tf.config.list_physical_devices(\\\"GPU\\\")\";\n",
              "                var nbb_cells = Jupyter.notebook.get_cells();\n",
              "                for (var i = 0; i < nbb_cells.length; ++i) {\n",
              "                    if (nbb_cells[i].input_prompt_number == nbb_cell_id) {\n",
              "                        if (nbb_cells[i].get_text() == nbb_unformatted_code) {\n",
              "                             nbb_cells[i].set_text(nbb_formatted_code);\n",
              "                        }\n",
              "                        break;\n",
              "                    }\n",
              "                }\n",
              "            }, 500);\n",
              "            "
            ],
            "text/plain": [
              "<IPython.core.display.Javascript object>"
            ]
          },
          "metadata": {},
          "output_type": "display_data"
        }
      ],
      "source": [
        "tf.config.list_physical_devices(\"GPU\")"
      ]
    },
    {
      "cell_type": "markdown",
      "metadata": {
        "id": "NI3OMP8Uw8zM"
      },
      "source": [
        "First, we will import the Eurosat dataset from Google Drive"
      ]
    },
    {
      "cell_type": "code",
      "execution_count": null,
      "metadata": {
        "ExecuteTime": {
          "end_time": "2023-06-18T17:19:33.305876Z",
          "start_time": "2023-06-18T17:19:33.291877Z"
        },
        "colab": {
          "base_uri": "https://localhost:8080/"
        },
        "hide_input": false,
        "id": "yeerneZyRMQK",
        "outputId": "023e77e6-e8a4-4f59-8cec-863210629602"
      },
      "outputs": [
        {
          "data": {
            "application/javascript": [
              "\n",
              "            setTimeout(function() {\n",
              "                var nbb_cell_id = 9;\n",
              "                var nbb_unformatted_code = \"# from google.colab import drive\\n# drive.mount('/content/drive')\\n# #drive.mount(\\\"/content/drive\\\", force_remount=True)\";\n",
              "                var nbb_formatted_code = \"# from google.colab import drive\\n# drive.mount('/content/drive')\\n# #drive.mount(\\\"/content/drive\\\", force_remount=True)\";\n",
              "                var nbb_cells = Jupyter.notebook.get_cells();\n",
              "                for (var i = 0; i < nbb_cells.length; ++i) {\n",
              "                    if (nbb_cells[i].input_prompt_number == nbb_cell_id) {\n",
              "                        if (nbb_cells[i].get_text() == nbb_unformatted_code) {\n",
              "                             nbb_cells[i].set_text(nbb_formatted_code);\n",
              "                        }\n",
              "                        break;\n",
              "                    }\n",
              "                }\n",
              "            }, 500);\n",
              "            "
            ],
            "text/plain": [
              "<IPython.core.display.Javascript object>"
            ]
          },
          "metadata": {},
          "output_type": "display_data"
        }
      ],
      "source": [
        "# from google.colab import drive\n",
        "# drive.mount('/content/drive')\n",
        "# #drive.mount(\"/content/drive\", force_remount=True)"
      ]
    },
    {
      "cell_type": "code",
      "execution_count": null,
      "metadata": {
        "ExecuteTime": {
          "end_time": "2023-06-18T17:19:33.321877Z",
          "start_time": "2023-06-18T17:19:33.307885Z"
        },
        "colab": {
          "base_uri": "https://localhost:8080/"
        },
        "id": "QjjygFyXRP1F",
        "outputId": "20b93fd3-77d8-4692-aaf7-e1c350eb98bc"
      },
      "outputs": [
        {
          "data": {
            "application/javascript": [
              "\n",
              "            setTimeout(function() {\n",
              "                var nbb_cell_id = 10;\n",
              "                var nbb_unformatted_code = \"# %cd drive/My Drive/Colab Notebooks/DeepLearning_course/Lab_03/Assignment_05/\";\n",
              "                var nbb_formatted_code = \"# %cd drive/My Drive/Colab Notebooks/DeepLearning_course/Lab_03/Assignment_05/\";\n",
              "                var nbb_cells = Jupyter.notebook.get_cells();\n",
              "                for (var i = 0; i < nbb_cells.length; ++i) {\n",
              "                    if (nbb_cells[i].input_prompt_number == nbb_cell_id) {\n",
              "                        if (nbb_cells[i].get_text() == nbb_unformatted_code) {\n",
              "                             nbb_cells[i].set_text(nbb_formatted_code);\n",
              "                        }\n",
              "                        break;\n",
              "                    }\n",
              "                }\n",
              "            }, 500);\n",
              "            "
            ],
            "text/plain": [
              "<IPython.core.display.Javascript object>"
            ]
          },
          "metadata": {},
          "output_type": "display_data"
        }
      ],
      "source": [
        "# %cd drive/My Drive/Colab Notebooks/DeepLearning_course/Lab_03/Assignment_05/"
      ]
    },
    {
      "cell_type": "markdown",
      "metadata": {
        "id": "RJyXvy1iROVG"
      },
      "source": [
        "### **Variables**"
      ]
    },
    {
      "cell_type": "code",
      "execution_count": null,
      "metadata": {
        "ExecuteTime": {
          "end_time": "2023-06-18T17:19:33.337877Z",
          "start_time": "2023-06-18T17:19:33.324879Z"
        },
        "id": "fg3h0LhMCKX3",
        "outputId": "4ff845f1-a912-40a7-f95b-bb2421d73075"
      },
      "outputs": [
        {
          "data": {
            "application/javascript": [
              "\n",
              "            setTimeout(function() {\n",
              "                var nbb_cell_id = 11;\n",
              "                var nbb_unformatted_code = \"PROJECT_DIR = \\\".\\\"  # os.getcwd()\\nSEED = 42\\nBATCH_SIZE = 32\\nTARGET_SIZE = 64\";\n",
              "                var nbb_formatted_code = \"PROJECT_DIR = \\\".\\\"  # os.getcwd()\\nSEED = 42\\nBATCH_SIZE = 32\\nTARGET_SIZE = 64\";\n",
              "                var nbb_cells = Jupyter.notebook.get_cells();\n",
              "                for (var i = 0; i < nbb_cells.length; ++i) {\n",
              "                    if (nbb_cells[i].input_prompt_number == nbb_cell_id) {\n",
              "                        if (nbb_cells[i].get_text() == nbb_unformatted_code) {\n",
              "                             nbb_cells[i].set_text(nbb_formatted_code);\n",
              "                        }\n",
              "                        break;\n",
              "                    }\n",
              "                }\n",
              "            }, 500);\n",
              "            "
            ],
            "text/plain": [
              "<IPython.core.display.Javascript object>"
            ]
          },
          "metadata": {},
          "output_type": "display_data"
        }
      ],
      "source": [
        "PROJECT_DIR = \".\"  # os.getcwd()\n",
        "SEED = 42\n",
        "BATCH_SIZE = 32\n",
        "TARGET_SIZE = 64"
      ]
    },
    {
      "cell_type": "markdown",
      "metadata": {
        "id": "ZsCscwWER9J8"
      },
      "source": [
        "### **Download the dataset**"
      ]
    },
    {
      "cell_type": "markdown",
      "metadata": {
        "id": "K3qFLh7yR2uQ"
      },
      "source": [
        "We will use the [EuroSAT dataset](https://zenodo.org/record/7711810#.ZFn-y3bP1D9) with Sentinel-2 images. There are two versions of this dataset: RGB (3 bands) and MS (multispectral - 13 bands).\n",
        "\n",
        "For this assignment, we will work with the RGB version. The following lines download the dataset (~130 MB):"
      ]
    },
    {
      "cell_type": "code",
      "execution_count": null,
      "metadata": {
        "ExecuteTime": {
          "end_time": "2023-06-18T17:19:33.353877Z",
          "start_time": "2023-06-18T17:19:33.339879Z"
        },
        "id": "nCYNmE32RnUn",
        "outputId": "f2e85a78-44a3-4541-c5d5-f93dc9bae9cf"
      },
      "outputs": [
        {
          "data": {
            "application/javascript": [
              "\n",
              "            setTimeout(function() {\n",
              "                var nbb_cell_id = 12;\n",
              "                var nbb_unformatted_code = \"url_dataset = \\\"https://zenodo.org/record/7711810/files/EuroSAT_RGB.zip?download=1\\\"\\nfilename = \\\"EuroSAT_RGB.zip\\\"\\n\\nif not os.path.exists(\\\"EuroSAT_RGB\\\"):\\n    !pip install wget\\n    import wget\\n\\n    f = wget.download(url_dataset, PROJECT_DIR)\\n    import zipfile\\n\\n    with zipfile.ZipFile(filename, \\\"r\\\") as zip_ref:\\n        zip_ref.extractall(\\\".\\\")\\n    os.remove(join(PROJECT_DIR, filename))\";\n",
              "                var nbb_formatted_code = \"url_dataset = \\\"https://zenodo.org/record/7711810/files/EuroSAT_RGB.zip?download=1\\\"\\nfilename = \\\"EuroSAT_RGB.zip\\\"\\n\\nif not os.path.exists(\\\"EuroSAT_RGB\\\"):\\n    !pip install wget\\n    import wget\\n\\n    f = wget.download(url_dataset, PROJECT_DIR)\\n    import zipfile\\n\\n    with zipfile.ZipFile(filename, \\\"r\\\") as zip_ref:\\n        zip_ref.extractall(\\\".\\\")\\n    os.remove(join(PROJECT_DIR, filename))\";\n",
              "                var nbb_cells = Jupyter.notebook.get_cells();\n",
              "                for (var i = 0; i < nbb_cells.length; ++i) {\n",
              "                    if (nbb_cells[i].input_prompt_number == nbb_cell_id) {\n",
              "                        if (nbb_cells[i].get_text() == nbb_unformatted_code) {\n",
              "                             nbb_cells[i].set_text(nbb_formatted_code);\n",
              "                        }\n",
              "                        break;\n",
              "                    }\n",
              "                }\n",
              "            }, 500);\n",
              "            "
            ],
            "text/plain": [
              "<IPython.core.display.Javascript object>"
            ]
          },
          "metadata": {},
          "output_type": "display_data"
        }
      ],
      "source": [
        "url_dataset = \"https://zenodo.org/record/7711810/files/EuroSAT_RGB.zip?download=1\"\n",
        "filename = \"EuroSAT_RGB.zip\"\n",
        "\n",
        "if not os.path.exists(\"EuroSAT_RGB\"):\n",
        "    !pip install wget\n",
        "    import wget\n",
        "\n",
        "    f = wget.download(url_dataset, PROJECT_DIR)\n",
        "    import zipfile\n",
        "\n",
        "    with zipfile.ZipFile(filename, \"r\") as zip_ref:\n",
        "        zip_ref.extractall(\".\")\n",
        "    os.remove(join(PROJECT_DIR, filename))"
      ]
    },
    {
      "cell_type": "markdown",
      "metadata": {
        "id": "kJDaNUDUw_jE"
      },
      "source": [
        "First of all, we will declare a customed data generator for the Eurosat dataset"
      ]
    },
    {
      "cell_type": "code",
      "execution_count": null,
      "metadata": {
        "ExecuteTime": {
          "end_time": "2023-06-18T17:19:33.891085Z",
          "start_time": "2023-06-18T17:19:33.355886Z"
        },
        "id": "EUEqxhxGn04-",
        "outputId": "9b8e14ce-f7b9-4b6f-acdf-9484663607d2"
      },
      "outputs": [
        {
          "data": {
            "text/html": [
              "<div>\n",
              "<style scoped>\n",
              "    .dataframe tbody tr th:only-of-type {\n",
              "        vertical-align: middle;\n",
              "    }\n",
              "\n",
              "    .dataframe tbody tr th {\n",
              "        vertical-align: top;\n",
              "    }\n",
              "\n",
              "    .dataframe thead th {\n",
              "        text-align: right;\n",
              "    }\n",
              "</style>\n",
              "<table border=\"1\" class=\"dataframe\">\n",
              "  <thead>\n",
              "    <tr style=\"text-align: right;\">\n",
              "      <th></th>\n",
              "      <th>path_image</th>\n",
              "      <th>class_str</th>\n",
              "      <th>class_int</th>\n",
              "    </tr>\n",
              "  </thead>\n",
              "  <tbody>\n",
              "    <tr>\n",
              "      <th>0</th>\n",
              "      <td>.\\EuroSAT_RGB\\Forest\\Forest_2313.jpg</td>\n",
              "      <td>Forest</td>\n",
              "      <td>1</td>\n",
              "    </tr>\n",
              "    <tr>\n",
              "      <th>1</th>\n",
              "      <td>.\\EuroSAT_RGB\\PermanentCrop\\PermanentCrop_2358...</td>\n",
              "      <td>PermanentCrop</td>\n",
              "      <td>6</td>\n",
              "    </tr>\n",
              "    <tr>\n",
              "      <th>2</th>\n",
              "      <td>.\\EuroSAT_RGB\\HerbaceousVegetation\\HerbaceousV...</td>\n",
              "      <td>HerbaceousVegetation</td>\n",
              "      <td>2</td>\n",
              "    </tr>\n",
              "    <tr>\n",
              "      <th>3</th>\n",
              "      <td>.\\EuroSAT_RGB\\Pasture\\Pasture_1415.jpg</td>\n",
              "      <td>Pasture</td>\n",
              "      <td>5</td>\n",
              "    </tr>\n",
              "    <tr>\n",
              "      <th>4</th>\n",
              "      <td>.\\EuroSAT_RGB\\Highway\\Highway_1611.jpg</td>\n",
              "      <td>Highway</td>\n",
              "      <td>3</td>\n",
              "    </tr>\n",
              "    <tr>\n",
              "      <th>...</th>\n",
              "      <td>...</td>\n",
              "      <td>...</td>\n",
              "      <td>...</td>\n",
              "    </tr>\n",
              "    <tr>\n",
              "      <th>26995</th>\n",
              "      <td>.\\EuroSAT_RGB\\River\\River_76.jpg</td>\n",
              "      <td>River</td>\n",
              "      <td>8</td>\n",
              "    </tr>\n",
              "    <tr>\n",
              "      <th>26996</th>\n",
              "      <td>.\\EuroSAT_RGB\\Forest\\Forest_2391.jpg</td>\n",
              "      <td>Forest</td>\n",
              "      <td>1</td>\n",
              "    </tr>\n",
              "    <tr>\n",
              "      <th>26997</th>\n",
              "      <td>.\\EuroSAT_RGB\\AnnualCrop\\AnnualCrop_861.jpg</td>\n",
              "      <td>AnnualCrop</td>\n",
              "      <td>0</td>\n",
              "    </tr>\n",
              "    <tr>\n",
              "      <th>26998</th>\n",
              "      <td>.\\EuroSAT_RGB\\Pasture\\Pasture_1796.jpg</td>\n",
              "      <td>Pasture</td>\n",
              "      <td>5</td>\n",
              "    </tr>\n",
              "    <tr>\n",
              "      <th>26999</th>\n",
              "      <td>.\\EuroSAT_RGB\\River\\River_2155.jpg</td>\n",
              "      <td>River</td>\n",
              "      <td>8</td>\n",
              "    </tr>\n",
              "  </tbody>\n",
              "</table>\n",
              "<p>27000 rows × 3 columns</p>\n",
              "</div>"
            ],
            "text/plain": [
              "                                              path_image  \\\n",
              "0                   .\\EuroSAT_RGB\\Forest\\Forest_2313.jpg   \n",
              "1      .\\EuroSAT_RGB\\PermanentCrop\\PermanentCrop_2358...   \n",
              "2      .\\EuroSAT_RGB\\HerbaceousVegetation\\HerbaceousV...   \n",
              "3                 .\\EuroSAT_RGB\\Pasture\\Pasture_1415.jpg   \n",
              "4                 .\\EuroSAT_RGB\\Highway\\Highway_1611.jpg   \n",
              "...                                                  ...   \n",
              "26995                   .\\EuroSAT_RGB\\River\\River_76.jpg   \n",
              "26996               .\\EuroSAT_RGB\\Forest\\Forest_2391.jpg   \n",
              "26997        .\\EuroSAT_RGB\\AnnualCrop\\AnnualCrop_861.jpg   \n",
              "26998             .\\EuroSAT_RGB\\Pasture\\Pasture_1796.jpg   \n",
              "26999                 .\\EuroSAT_RGB\\River\\River_2155.jpg   \n",
              "\n",
              "                  class_str  class_int  \n",
              "0                    Forest          1  \n",
              "1             PermanentCrop          6  \n",
              "2      HerbaceousVegetation          2  \n",
              "3                   Pasture          5  \n",
              "4                   Highway          3  \n",
              "...                     ...        ...  \n",
              "26995                 River          8  \n",
              "26996                Forest          1  \n",
              "26997            AnnualCrop          0  \n",
              "26998               Pasture          5  \n",
              "26999                 River          8  \n",
              "\n",
              "[27000 rows x 3 columns]"
            ]
          },
          "execution_count": 13,
          "metadata": {},
          "output_type": "execute_result"
        },
        {
          "data": {
            "application/javascript": [
              "\n",
              "            setTimeout(function() {\n",
              "                var nbb_cell_id = 13;\n",
              "                var nbb_unformatted_code = \"path_data = join(PROJECT_DIR, \\\"EuroSAT_RGB\\\")\\n\\ndf, n_classes = read_eurosat(path_data=path_data, SEED=SEED)\\nclasses = np.unique(df[\\\"class_str\\\"].values)\\n\\ndf\";\n",
              "                var nbb_formatted_code = \"path_data = join(PROJECT_DIR, \\\"EuroSAT_RGB\\\")\\n\\ndf, n_classes = read_eurosat(path_data=path_data, SEED=SEED)\\nclasses = np.unique(df[\\\"class_str\\\"].values)\\n\\ndf\";\n",
              "                var nbb_cells = Jupyter.notebook.get_cells();\n",
              "                for (var i = 0; i < nbb_cells.length; ++i) {\n",
              "                    if (nbb_cells[i].input_prompt_number == nbb_cell_id) {\n",
              "                        if (nbb_cells[i].get_text() == nbb_unformatted_code) {\n",
              "                             nbb_cells[i].set_text(nbb_formatted_code);\n",
              "                        }\n",
              "                        break;\n",
              "                    }\n",
              "                }\n",
              "            }, 500);\n",
              "            "
            ],
            "text/plain": [
              "<IPython.core.display.Javascript object>"
            ]
          },
          "metadata": {},
          "output_type": "display_data"
        }
      ],
      "source": [
        "path_data = join(PROJECT_DIR, \"EuroSAT_RGB\")\n",
        "\n",
        "df, n_classes = read_eurosat(path_data=path_data, SEED=SEED)\n",
        "classes = np.unique(df[\"class_str\"].values)\n",
        "\n",
        "df"
      ]
    },
    {
      "cell_type": "code",
      "execution_count": null,
      "metadata": {
        "ExecuteTime": {
          "end_time": "2023-06-18T17:19:33.936645Z",
          "start_time": "2023-06-18T17:19:33.894085Z"
        },
        "id": "rJ1LcJdvn04-",
        "outputId": "96da56e7-c41d-44ff-d810-56e72f29faf5"
      },
      "outputs": [
        {
          "data": {
            "application/javascript": [
              "\n",
              "            setTimeout(function() {\n",
              "                var nbb_cell_id = 14;\n",
              "                var nbb_unformatted_code = \"splits = train_val_test_split(df, val_size=0.2, test_size=0.2, SEED=SEED)\\n\\nx_train = splits[\\\"x_train\\\"]\\ny_train = splits[\\\"y_train\\\"]\\nx_val = splits[\\\"x_val\\\"]\\ny_val = splits[\\\"y_val\\\"]\\nx_test = splits[\\\"x_test\\\"]\\ny_test = splits[\\\"y_test\\\"]\";\n",
              "                var nbb_formatted_code = \"splits = train_val_test_split(df, val_size=0.2, test_size=0.2, SEED=SEED)\\n\\nx_train = splits[\\\"x_train\\\"]\\ny_train = splits[\\\"y_train\\\"]\\nx_val = splits[\\\"x_val\\\"]\\ny_val = splits[\\\"y_val\\\"]\\nx_test = splits[\\\"x_test\\\"]\\ny_test = splits[\\\"y_test\\\"]\";\n",
              "                var nbb_cells = Jupyter.notebook.get_cells();\n",
              "                for (var i = 0; i < nbb_cells.length; ++i) {\n",
              "                    if (nbb_cells[i].input_prompt_number == nbb_cell_id) {\n",
              "                        if (nbb_cells[i].get_text() == nbb_unformatted_code) {\n",
              "                             nbb_cells[i].set_text(nbb_formatted_code);\n",
              "                        }\n",
              "                        break;\n",
              "                    }\n",
              "                }\n",
              "            }, 500);\n",
              "            "
            ],
            "text/plain": [
              "<IPython.core.display.Javascript object>"
            ]
          },
          "metadata": {},
          "output_type": "display_data"
        }
      ],
      "source": [
        "splits = train_val_test_split(df, val_size=0.2, test_size=0.2, SEED=SEED)\n",
        "\n",
        "x_train = splits[\"x_train\"]\n",
        "y_train = splits[\"y_train\"]\n",
        "x_val = splits[\"x_val\"]\n",
        "y_val = splits[\"y_val\"]\n",
        "x_test = splits[\"x_test\"]\n",
        "y_test = splits[\"y_test\"]"
      ]
    },
    {
      "cell_type": "code",
      "execution_count": null,
      "metadata": {
        "ExecuteTime": {
          "end_time": "2023-06-18T17:19:33.952641Z",
          "start_time": "2023-06-18T17:19:33.938644Z"
        },
        "id": "xpmzcWBDn04-",
        "outputId": "44bb0a60-0c12-425a-f1ac-6c81ae95a3df"
      },
      "outputs": [
        {
          "name": "stdout",
          "output_type": "stream",
          "text": [
            "Samples per class - train: [1800 1800 1800 1500 1500 1200 1500 1800 1500 1800]\n",
            "Samples per class - val: [600 600 600 500 500 400 500 600 500 600]\n",
            "Samples per class - test: [600 600 600 500 500 400 500 600 500 600]\n"
          ]
        },
        {
          "data": {
            "application/javascript": [
              "\n",
              "            setTimeout(function() {\n",
              "                var nbb_cell_id = 15;\n",
              "                var nbb_unformatted_code = \"# Number of samples per class\\n_, counts_train = np.unique(y_train, return_counts=True)\\n_, counts_val = np.unique(y_val, return_counts=True)\\n_, counts_test = np.unique(y_test, return_counts=True)\\n\\nprint(\\\"Samples per class - train: {}\\\".format(counts_train))\\nprint(\\\"Samples per class - val: {}\\\".format(counts_val))\\nprint(\\\"Samples per class - test: {}\\\".format(counts_test))\";\n",
              "                var nbb_formatted_code = \"# Number of samples per class\\n_, counts_train = np.unique(y_train, return_counts=True)\\n_, counts_val = np.unique(y_val, return_counts=True)\\n_, counts_test = np.unique(y_test, return_counts=True)\\n\\nprint(\\\"Samples per class - train: {}\\\".format(counts_train))\\nprint(\\\"Samples per class - val: {}\\\".format(counts_val))\\nprint(\\\"Samples per class - test: {}\\\".format(counts_test))\";\n",
              "                var nbb_cells = Jupyter.notebook.get_cells();\n",
              "                for (var i = 0; i < nbb_cells.length; ++i) {\n",
              "                    if (nbb_cells[i].input_prompt_number == nbb_cell_id) {\n",
              "                        if (nbb_cells[i].get_text() == nbb_unformatted_code) {\n",
              "                             nbb_cells[i].set_text(nbb_formatted_code);\n",
              "                        }\n",
              "                        break;\n",
              "                    }\n",
              "                }\n",
              "            }, 500);\n",
              "            "
            ],
            "text/plain": [
              "<IPython.core.display.Javascript object>"
            ]
          },
          "metadata": {},
          "output_type": "display_data"
        }
      ],
      "source": [
        "# Number of samples per class\n",
        "_, counts_train = np.unique(y_train, return_counts=True)\n",
        "_, counts_val = np.unique(y_val, return_counts=True)\n",
        "_, counts_test = np.unique(y_test, return_counts=True)\n",
        "\n",
        "print(\"Samples per class - train: {}\".format(counts_train))\n",
        "print(\"Samples per class - val: {}\".format(counts_val))\n",
        "print(\"Samples per class - test: {}\".format(counts_test))"
      ]
    },
    {
      "cell_type": "code",
      "execution_count": null,
      "metadata": {
        "ExecuteTime": {
          "end_time": "2023-06-18T17:19:33.983069Z",
          "start_time": "2023-06-18T17:19:33.954645Z"
        },
        "id": "gOpBNfgzhdfM",
        "outputId": "f95db7b4-2696-43e3-b2ff-55858ace1985"
      },
      "outputs": [
        {
          "data": {
            "application/javascript": [
              "\n",
              "            setTimeout(function() {\n",
              "                var nbb_cell_id = 16;\n",
              "                var nbb_unformatted_code = \"data_gen_train = DataGenerator(\\n    path_images=x_train,\\n    labels=y_train,\\n    batch_size=BATCH_SIZE,\\n    n_classes=n_classes,\\n    target_size=TARGET_SIZE,\\n    shuffle=True,\\n)\\n\\ndata_gen_val = DataGenerator(\\n    path_images=x_val,\\n    labels=y_val,\\n    batch_size=BATCH_SIZE,\\n    n_classes=n_classes,\\n    target_size=TARGET_SIZE,\\n    shuffle=False,\\n)\";\n",
              "                var nbb_formatted_code = \"data_gen_train = DataGenerator(\\n    path_images=x_train,\\n    labels=y_train,\\n    batch_size=BATCH_SIZE,\\n    n_classes=n_classes,\\n    target_size=TARGET_SIZE,\\n    shuffle=True,\\n)\\n\\ndata_gen_val = DataGenerator(\\n    path_images=x_val,\\n    labels=y_val,\\n    batch_size=BATCH_SIZE,\\n    n_classes=n_classes,\\n    target_size=TARGET_SIZE,\\n    shuffle=False,\\n)\";\n",
              "                var nbb_cells = Jupyter.notebook.get_cells();\n",
              "                for (var i = 0; i < nbb_cells.length; ++i) {\n",
              "                    if (nbb_cells[i].input_prompt_number == nbb_cell_id) {\n",
              "                        if (nbb_cells[i].get_text() == nbb_unformatted_code) {\n",
              "                             nbb_cells[i].set_text(nbb_formatted_code);\n",
              "                        }\n",
              "                        break;\n",
              "                    }\n",
              "                }\n",
              "            }, 500);\n",
              "            "
            ],
            "text/plain": [
              "<IPython.core.display.Javascript object>"
            ]
          },
          "metadata": {},
          "output_type": "display_data"
        }
      ],
      "source": [
        "data_gen_train = DataGenerator(\n",
        "    path_images=x_train,\n",
        "    labels=y_train,\n",
        "    batch_size=BATCH_SIZE,\n",
        "    n_classes=n_classes,\n",
        "    target_size=TARGET_SIZE,\n",
        "    shuffle=True,\n",
        ")\n",
        "\n",
        "data_gen_val = DataGenerator(\n",
        "    path_images=x_val,\n",
        "    labels=y_val,\n",
        "    batch_size=BATCH_SIZE,\n",
        "    n_classes=n_classes,\n",
        "    target_size=TARGET_SIZE,\n",
        "    shuffle=False,\n",
        ")\n",
        "\n",
        "\n"
      ]
    },
    {
      "cell_type": "markdown",
      "metadata": {
        "id": "RGGtIwivn04-"
      },
      "source": [
        "## Model Creation"
      ]
    },
    {
      "cell_type": "markdown",
      "metadata": {
        "id": "XHNkvxDjn04-"
      },
      "source": [
        "### Callback Definition"
      ]
    },
    {
      "cell_type": "code",
      "execution_count": null,
      "metadata": {
        "ExecuteTime": {
          "end_time": "2023-06-18T17:19:34.014454Z",
          "start_time": "2023-06-18T17:19:33.985035Z"
        },
        "id": "lCsqrZlfn04_",
        "outputId": "7f7cd414-011b-4b15-a42a-e0b9a9b97b7e"
      },
      "outputs": [
        {
          "data": {
            "application/javascript": [
              "\n",
              "            setTimeout(function() {\n",
              "                var nbb_cell_id = 17;\n",
              "                var nbb_unformatted_code = \"cb_autosave_tl = ModelCheckpoint(\\n    \\\"VGG_Model_tl.h5\\\",\\n    mode=\\\"max\\\",\\n    save_best_only=True,\\n    monitor=\\\"val_accuracy\\\",\\n    verbose=1,\\n)\\n\\ncb_autosave_ft = ModelCheckpoint(\\n    \\\"VGG_Model_ft.h5\\\",\\n    mode=\\\"max\\\",\\n    save_best_only=True,\\n    monitor=\\\"val_accuracy\\\",\\n    verbose=1,\\n)\\n\\npatience=20\\nplot_loss_1 = PlotLossesCallback()\\n\\ncb_early_stop = EarlyStopping(\\n    patience=patience, verbose=1, mode=\\\"auto\\\", monitor=\\\"val_loss\\\"\\n)\\n\\n\\nreduce_lr = ReduceLROnPlateau(monitor='val_loss', factor=0.1, patience=patience, min_lr=1e-6)\\n\\n\\nlogdir_tl = join(PROJECT_DIR, \\\"logs_tl\\\")\\ncb_tensorboard_tl = TensorBoard(logdir_tl, histogram_freq=1)\\n\\nlogdir_ft = join(PROJECT_DIR, \\\"logs_ft\\\")\\ncb_tensorboard_ft = TensorBoard(logdir_ft, histogram_freq=1)\";\n",
              "                var nbb_formatted_code = \"cb_autosave_tl = ModelCheckpoint(\\n    \\\"VGG_Model_tl.h5\\\",\\n    mode=\\\"max\\\",\\n    save_best_only=True,\\n    monitor=\\\"val_accuracy\\\",\\n    verbose=1,\\n)\\n\\ncb_autosave_ft = ModelCheckpoint(\\n    \\\"VGG_Model_ft.h5\\\",\\n    mode=\\\"max\\\",\\n    save_best_only=True,\\n    monitor=\\\"val_accuracy\\\",\\n    verbose=1,\\n)\\n\\npatience = 20\\nplot_loss_1 = PlotLossesCallback()\\n\\ncb_early_stop = EarlyStopping(\\n    patience=patience, verbose=1, mode=\\\"auto\\\", monitor=\\\"val_loss\\\"\\n)\\n\\n\\nreduce_lr = ReduceLROnPlateau(\\n    monitor=\\\"val_loss\\\", factor=0.1, patience=patience, min_lr=1e-6\\n)\\n\\n\\nlogdir_tl = join(PROJECT_DIR, \\\"logs_tl\\\")\\ncb_tensorboard_tl = TensorBoard(logdir_tl, histogram_freq=1)\\n\\nlogdir_ft = join(PROJECT_DIR, \\\"logs_ft\\\")\\ncb_tensorboard_ft = TensorBoard(logdir_ft, histogram_freq=1)\";\n",
              "                var nbb_cells = Jupyter.notebook.get_cells();\n",
              "                for (var i = 0; i < nbb_cells.length; ++i) {\n",
              "                    if (nbb_cells[i].input_prompt_number == nbb_cell_id) {\n",
              "                        if (nbb_cells[i].get_text() == nbb_unformatted_code) {\n",
              "                             nbb_cells[i].set_text(nbb_formatted_code);\n",
              "                        }\n",
              "                        break;\n",
              "                    }\n",
              "                }\n",
              "            }, 500);\n",
              "            "
            ],
            "text/plain": [
              "<IPython.core.display.Javascript object>"
            ]
          },
          "metadata": {},
          "output_type": "display_data"
        }
      ],
      "source": [
        "cb_autosave_tl = ModelCheckpoint(\n",
        "    \"VGG_Model_tl.h5\",\n",
        "    mode=\"max\",\n",
        "    save_best_only=True,\n",
        "    monitor=\"val_accuracy\",\n",
        "    verbose=1,\n",
        ")\n",
        "\n",
        "cb_autosave_ft = ModelCheckpoint(\n",
        "    \"VGG_Model_ft.h5\",\n",
        "    mode=\"max\",\n",
        "    save_best_only=True,\n",
        "    monitor=\"val_accuracy\",\n",
        "    verbose=1,\n",
        ")\n",
        "\n",
        "patience=20\n",
        "plot_loss_1 = PlotLossesCallback()\n",
        "\n",
        "cb_early_stop = EarlyStopping(\n",
        "    patience=patience, verbose=1, mode=\"auto\", monitor=\"val_loss\"\n",
        ")\n",
        "\n",
        "\n",
        "reduce_lr = ReduceLROnPlateau(monitor='val_loss', factor=0.1, patience=patience, min_lr=1e-6)\n",
        "\n",
        "\n",
        "logdir_tl = join(PROJECT_DIR, \"logs_tl\")\n",
        "cb_tensorboard_tl = TensorBoard(logdir_tl, histogram_freq=1)\n",
        "\n",
        "logdir_ft = join(PROJECT_DIR, \"logs_ft\")\n",
        "cb_tensorboard_ft = TensorBoard(logdir_ft, histogram_freq=1)\n",
        "\n"
      ]
    },
    {
      "cell_type": "markdown",
      "metadata": {
        "id": "PNHv29TWvlwO"
      },
      "source": [
        "This model will perform feature extraction using the frozen pre-trained layers"
      ]
    },
    {
      "cell_type": "markdown",
      "metadata": {
        "id": "miYBw0ghtcI-"
      },
      "source": [
        "## **Transfer learning**"
      ]
    },
    {
      "cell_type": "code",
      "execution_count": null,
      "metadata": {
        "ExecuteTime": {
          "end_time": "2023-06-18T17:19:34.029455Z",
          "start_time": "2023-06-18T17:19:34.016456Z"
        },
        "id": "bMZmzlDv1ZoT",
        "outputId": "ab4a88aa-d7fd-4e90-c9cc-44da2327698f"
      },
      "outputs": [
        {
          "data": {
            "application/javascript": [
              "\n",
              "            setTimeout(function() {\n",
              "                var nbb_cell_id = 18;\n",
              "                var nbb_unformatted_code = \"n_classes = 10  # For EuroSAT\";\n",
              "                var nbb_formatted_code = \"n_classes = 10  # For EuroSAT\";\n",
              "                var nbb_cells = Jupyter.notebook.get_cells();\n",
              "                for (var i = 0; i < nbb_cells.length; ++i) {\n",
              "                    if (nbb_cells[i].input_prompt_number == nbb_cell_id) {\n",
              "                        if (nbb_cells[i].get_text() == nbb_unformatted_code) {\n",
              "                             nbb_cells[i].set_text(nbb_formatted_code);\n",
              "                        }\n",
              "                        break;\n",
              "                    }\n",
              "                }\n",
              "            }, 500);\n",
              "            "
            ],
            "text/plain": [
              "<IPython.core.display.Javascript object>"
            ]
          },
          "metadata": {},
          "output_type": "display_data"
        }
      ],
      "source": [
        "n_classes = 10  # For EuroSAT"
      ]
    },
    {
      "cell_type": "markdown",
      "metadata": {
        "id": "_Muv8wpVz-lS"
      },
      "source": [
        "**1.** Take a pre-trained model as $base\\_model$\n"
      ]
    },
    {
      "cell_type": "code",
      "execution_count": null,
      "metadata": {
        "ExecuteTime": {
          "end_time": "2023-06-18T17:19:34.336002Z",
          "start_time": "2023-06-18T17:19:34.032458Z"
        },
        "id": "kCuOGWGxstku",
        "outputId": "b73362a5-c6d5-4d05-9b02-9ecf4889cd8a"
      },
      "outputs": [
        {
          "data": {
            "application/javascript": [
              "\n",
              "            setTimeout(function() {\n",
              "                var nbb_cell_id = 19;\n",
              "                var nbb_unformatted_code = \"vgg16_base = VGG16(include_top=False, weights=\\\"imagenet\\\", input_shape=(224, 224, 3))\";\n",
              "                var nbb_formatted_code = \"vgg16_base = VGG16(include_top=False, weights=\\\"imagenet\\\", input_shape=(224, 224, 3))\";\n",
              "                var nbb_cells = Jupyter.notebook.get_cells();\n",
              "                for (var i = 0; i < nbb_cells.length; ++i) {\n",
              "                    if (nbb_cells[i].input_prompt_number == nbb_cell_id) {\n",
              "                        if (nbb_cells[i].get_text() == nbb_unformatted_code) {\n",
              "                             nbb_cells[i].set_text(nbb_formatted_code);\n",
              "                        }\n",
              "                        break;\n",
              "                    }\n",
              "                }\n",
              "            }, 500);\n",
              "            "
            ],
            "text/plain": [
              "<IPython.core.display.Javascript object>"
            ]
          },
          "metadata": {},
          "output_type": "display_data"
        }
      ],
      "source": [
        "vgg16_base = VGG16(include_top=False, weights=\"imagenet\", input_shape=(224, 224, 3))"
      ]
    },
    {
      "cell_type": "code",
      "execution_count": null,
      "metadata": {
        "ExecuteTime": {
          "end_time": "2023-06-18T17:19:34.383227Z",
          "start_time": "2023-06-18T17:19:34.338005Z"
        },
        "id": "U7PPKbVzn05D",
        "outputId": "8cd5df81-37cd-41f9-9fee-a5dfa643e2c6"
      },
      "outputs": [
        {
          "name": "stdout",
          "output_type": "stream",
          "text": [
            "Model: \"vgg16\"\n",
            "_________________________________________________________________\n",
            " Layer (type)                Output Shape              Param #   \n",
            "=================================================================\n",
            " input_4 (InputLayer)        [(None, 224, 224, 3)]     0         \n",
            "                                                                 \n",
            " block1_conv1 (Conv2D)       (None, 224, 224, 64)      1792      \n",
            "                                                                 \n",
            " block1_conv2 (Conv2D)       (None, 224, 224, 64)      36928     \n",
            "                                                                 \n",
            " block1_pool (MaxPooling2D)  (None, 112, 112, 64)      0         \n",
            "                                                                 \n",
            " block2_conv1 (Conv2D)       (None, 112, 112, 128)     73856     \n",
            "                                                                 \n",
            " block2_conv2 (Conv2D)       (None, 112, 112, 128)     147584    \n",
            "                                                                 \n",
            " block2_pool (MaxPooling2D)  (None, 56, 56, 128)       0         \n",
            "                                                                 \n",
            " block3_conv1 (Conv2D)       (None, 56, 56, 256)       295168    \n",
            "                                                                 \n",
            " block3_conv2 (Conv2D)       (None, 56, 56, 256)       590080    \n",
            "                                                                 \n",
            " block3_conv3 (Conv2D)       (None, 56, 56, 256)       590080    \n",
            "                                                                 \n",
            " block3_pool (MaxPooling2D)  (None, 28, 28, 256)       0         \n",
            "                                                                 \n",
            " block4_conv1 (Conv2D)       (None, 28, 28, 512)       1180160   \n",
            "                                                                 \n",
            " block4_conv2 (Conv2D)       (None, 28, 28, 512)       2359808   \n",
            "                                                                 \n",
            " block4_conv3 (Conv2D)       (None, 28, 28, 512)       2359808   \n",
            "                                                                 \n",
            " block4_pool (MaxPooling2D)  (None, 14, 14, 512)       0         \n",
            "                                                                 \n",
            " block5_conv1 (Conv2D)       (None, 14, 14, 512)       2359808   \n",
            "                                                                 \n",
            " block5_conv2 (Conv2D)       (None, 14, 14, 512)       2359808   \n",
            "                                                                 \n",
            " block5_conv3 (Conv2D)       (None, 14, 14, 512)       2359808   \n",
            "                                                                 \n",
            " block5_pool (MaxPooling2D)  (None, 7, 7, 512)         0         \n",
            "                                                                 \n",
            "=================================================================\n",
            "Total params: 14,714,688\n",
            "Trainable params: 14,714,688\n",
            "Non-trainable params: 0\n",
            "_________________________________________________________________\n"
          ]
        },
        {
          "data": {
            "application/javascript": [
              "\n",
              "            setTimeout(function() {\n",
              "                var nbb_cell_id = 20;\n",
              "                var nbb_unformatted_code = \"vgg16_base.summary()\";\n",
              "                var nbb_formatted_code = \"vgg16_base.summary()\";\n",
              "                var nbb_cells = Jupyter.notebook.get_cells();\n",
              "                for (var i = 0; i < nbb_cells.length; ++i) {\n",
              "                    if (nbb_cells[i].input_prompt_number == nbb_cell_id) {\n",
              "                        if (nbb_cells[i].get_text() == nbb_unformatted_code) {\n",
              "                             nbb_cells[i].set_text(nbb_formatted_code);\n",
              "                        }\n",
              "                        break;\n",
              "                    }\n",
              "                }\n",
              "            }, 500);\n",
              "            "
            ],
            "text/plain": [
              "<IPython.core.display.Javascript object>"
            ]
          },
          "metadata": {},
          "output_type": "display_data"
        }
      ],
      "source": [
        "vgg16_base.summary()"
      ]
    },
    {
      "cell_type": "markdown",
      "metadata": {
        "id": "rVFVwWBC0M0V"
      },
      "source": [
        " **2.** Freeze the $base\\_model$\n"
      ]
    },
    {
      "cell_type": "code",
      "execution_count": null,
      "metadata": {
        "ExecuteTime": {
          "end_time": "2023-06-18T17:19:34.520390Z",
          "start_time": "2023-06-18T17:19:34.499396Z"
        },
        "id": "RoKLQDj8z9--",
        "outputId": "b7a598ca-eb7c-4188-d603-922d75e6b5b8"
      },
      "outputs": [
        {
          "data": {
            "application/javascript": [
              "\n",
              "            setTimeout(function() {\n",
              "                var nbb_cell_id = 21;\n",
              "                var nbb_unformatted_code = \"vgg16_base.trainable = False\";\n",
              "                var nbb_formatted_code = \"vgg16_base.trainable = False\";\n",
              "                var nbb_cells = Jupyter.notebook.get_cells();\n",
              "                for (var i = 0; i < nbb_cells.length; ++i) {\n",
              "                    if (nbb_cells[i].input_prompt_number == nbb_cell_id) {\n",
              "                        if (nbb_cells[i].get_text() == nbb_unformatted_code) {\n",
              "                             nbb_cells[i].set_text(nbb_formatted_code);\n",
              "                        }\n",
              "                        break;\n",
              "                    }\n",
              "                }\n",
              "            }, 500);\n",
              "            "
            ],
            "text/plain": [
              "<IPython.core.display.Javascript object>"
            ]
          },
          "metadata": {},
          "output_type": "display_data"
        }
      ],
      "source": [
        "vgg16_base.trainable = False"
      ]
    },
    {
      "cell_type": "code",
      "execution_count": null,
      "metadata": {
        "ExecuteTime": {
          "end_time": "2023-06-18T17:19:34.998619Z",
          "start_time": "2023-06-18T17:19:34.955514Z"
        },
        "id": "cIwdw4cdn05E",
        "outputId": "b4a4d7ab-1649-43bb-c06f-4fbc2255ee46"
      },
      "outputs": [
        {
          "name": "stdout",
          "output_type": "stream",
          "text": [
            "Model: \"vgg16\"\n",
            "_________________________________________________________________\n",
            " Layer (type)                Output Shape              Param #   \n",
            "=================================================================\n",
            " input_4 (InputLayer)        [(None, 224, 224, 3)]     0         \n",
            "                                                                 \n",
            " block1_conv1 (Conv2D)       (None, 224, 224, 64)      1792      \n",
            "                                                                 \n",
            " block1_conv2 (Conv2D)       (None, 224, 224, 64)      36928     \n",
            "                                                                 \n",
            " block1_pool (MaxPooling2D)  (None, 112, 112, 64)      0         \n",
            "                                                                 \n",
            " block2_conv1 (Conv2D)       (None, 112, 112, 128)     73856     \n",
            "                                                                 \n",
            " block2_conv2 (Conv2D)       (None, 112, 112, 128)     147584    \n",
            "                                                                 \n",
            " block2_pool (MaxPooling2D)  (None, 56, 56, 128)       0         \n",
            "                                                                 \n",
            " block3_conv1 (Conv2D)       (None, 56, 56, 256)       295168    \n",
            "                                                                 \n",
            " block3_conv2 (Conv2D)       (None, 56, 56, 256)       590080    \n",
            "                                                                 \n",
            " block3_conv3 (Conv2D)       (None, 56, 56, 256)       590080    \n",
            "                                                                 \n",
            " block3_pool (MaxPooling2D)  (None, 28, 28, 256)       0         \n",
            "                                                                 \n",
            " block4_conv1 (Conv2D)       (None, 28, 28, 512)       1180160   \n",
            "                                                                 \n",
            " block4_conv2 (Conv2D)       (None, 28, 28, 512)       2359808   \n",
            "                                                                 \n",
            " block4_conv3 (Conv2D)       (None, 28, 28, 512)       2359808   \n",
            "                                                                 \n",
            " block4_pool (MaxPooling2D)  (None, 14, 14, 512)       0         \n",
            "                                                                 \n",
            " block5_conv1 (Conv2D)       (None, 14, 14, 512)       2359808   \n",
            "                                                                 \n",
            " block5_conv2 (Conv2D)       (None, 14, 14, 512)       2359808   \n",
            "                                                                 \n",
            " block5_conv3 (Conv2D)       (None, 14, 14, 512)       2359808   \n",
            "                                                                 \n",
            " block5_pool (MaxPooling2D)  (None, 7, 7, 512)         0         \n",
            "                                                                 \n",
            "=================================================================\n",
            "Total params: 14,714,688\n",
            "Trainable params: 0\n",
            "Non-trainable params: 14,714,688\n",
            "_________________________________________________________________\n"
          ]
        },
        {
          "data": {
            "application/javascript": [
              "\n",
              "            setTimeout(function() {\n",
              "                var nbb_cell_id = 22;\n",
              "                var nbb_unformatted_code = \"vgg16_base.summary()\";\n",
              "                var nbb_formatted_code = \"vgg16_base.summary()\";\n",
              "                var nbb_cells = Jupyter.notebook.get_cells();\n",
              "                for (var i = 0; i < nbb_cells.length; ++i) {\n",
              "                    if (nbb_cells[i].input_prompt_number == nbb_cell_id) {\n",
              "                        if (nbb_cells[i].get_text() == nbb_unformatted_code) {\n",
              "                             nbb_cells[i].set_text(nbb_formatted_code);\n",
              "                        }\n",
              "                        break;\n",
              "                    }\n",
              "                }\n",
              "            }, 500);\n",
              "            "
            ],
            "text/plain": [
              "<IPython.core.display.Javascript object>"
            ]
          },
          "metadata": {},
          "output_type": "display_data"
        }
      ],
      "source": [
        "vgg16_base.summary()"
      ]
    },
    {
      "cell_type": "markdown",
      "metadata": {
        "id": "6Ht6nBKN0Pal"
      },
      "source": [
        " **3.** Add a $head$ (classification layers) to the $base\\_model$\n"
      ]
    },
    {
      "cell_type": "code",
      "execution_count": null,
      "metadata": {
        "ExecuteTime": {
          "end_time": "2023-06-18T17:19:36.010480Z",
          "start_time": "2023-06-18T17:19:35.855090Z"
        },
        "id": "Ym84hUE30YCK",
        "outputId": "61a33514-7180-4a54-c1df-b869da499920"
      },
      "outputs": [
        {
          "data": {
            "application/javascript": [
              "\n",
              "            setTimeout(function() {\n",
              "                var nbb_cell_id = 23;\n",
              "                var nbb_unformatted_code = \"input = Input(shape=(224, 224, 3))\\nx = preprocess_input(input)\\nx = vgg16_base(x)\\n# x = tf.keras.layers.Flatten()(x)\\nx = GlobalAveragePooling2D()(x)\\nx = Dense(\\n    256,\\n    activation=\\\"relu\\\",\\n    kernel_initializer=GlorotUniform(),\\n    kernel_regularizer=l2(0.01),\\n)(x)\\nx = BatchNormalization()(x)\\nx = Dropout(0.5)(x)\\nx = Dense(\\n    128,\\n    activation=\\\"relu\\\",\\n    kernel_initializer=GlorotUniform(),\\n    kernel_regularizer=l2(0.01),\\n)(x)\\nx = BatchNormalization()(x)\\nx = Dropout(0.3)(x)\\nx = Dense(\\n    64,\\n    activation=\\\"relu\\\",\\n    kernel_initializer=GlorotUniform(),\\n    kernel_regularizer=l2(0.01),\\n)(x)\\nx = BatchNormalization()(x)\\nx = Dropout(0.2)(x)\\noutput = Dense(n_classes, activation=\\\"softmax\\\")(x)\\n\\nmodel = Model(input, output)\";\n",
              "                var nbb_formatted_code = \"input = Input(shape=(224, 224, 3))\\nx = preprocess_input(input)\\nx = vgg16_base(x)\\n# x = tf.keras.layers.Flatten()(x)\\nx = GlobalAveragePooling2D()(x)\\nx = Dense(\\n    256,\\n    activation=\\\"relu\\\",\\n    kernel_initializer=GlorotUniform(),\\n    kernel_regularizer=l2(0.01),\\n)(x)\\nx = BatchNormalization()(x)\\nx = Dropout(0.5)(x)\\nx = Dense(\\n    128,\\n    activation=\\\"relu\\\",\\n    kernel_initializer=GlorotUniform(),\\n    kernel_regularizer=l2(0.01),\\n)(x)\\nx = BatchNormalization()(x)\\nx = Dropout(0.3)(x)\\nx = Dense(\\n    64,\\n    activation=\\\"relu\\\",\\n    kernel_initializer=GlorotUniform(),\\n    kernel_regularizer=l2(0.01),\\n)(x)\\nx = BatchNormalization()(x)\\nx = Dropout(0.2)(x)\\noutput = Dense(n_classes, activation=\\\"softmax\\\")(x)\\n\\nmodel = Model(input, output)\";\n",
              "                var nbb_cells = Jupyter.notebook.get_cells();\n",
              "                for (var i = 0; i < nbb_cells.length; ++i) {\n",
              "                    if (nbb_cells[i].input_prompt_number == nbb_cell_id) {\n",
              "                        if (nbb_cells[i].get_text() == nbb_unformatted_code) {\n",
              "                             nbb_cells[i].set_text(nbb_formatted_code);\n",
              "                        }\n",
              "                        break;\n",
              "                    }\n",
              "                }\n",
              "            }, 500);\n",
              "            "
            ],
            "text/plain": [
              "<IPython.core.display.Javascript object>"
            ]
          },
          "metadata": {},
          "output_type": "display_data"
        }
      ],
      "source": [
        "input = Input(shape=(224, 224, 3))\n",
        "x = preprocess_input(input)\n",
        "x = vgg16_base(x)\n",
        "# x = tf.keras.layers.Flatten()(x)\n",
        "x = GlobalAveragePooling2D()(x)\n",
        "x = Dense(\n",
        "    256,\n",
        "    activation=\"relu\",\n",
        "    kernel_initializer=GlorotUniform(),\n",
        "    kernel_regularizer=l2(0.01),\n",
        ")(x)\n",
        "x = BatchNormalization()(x)\n",
        "x = Dropout(0.5)(x)\n",
        "x = Dense(\n",
        "    128,\n",
        "    activation=\"relu\",\n",
        "    kernel_initializer=GlorotUniform(),\n",
        "    kernel_regularizer=l2(0.01),\n",
        ")(x)\n",
        "x = BatchNormalization()(x)\n",
        "x = Dropout(0.3)(x)\n",
        "x = Dense(\n",
        "    64,\n",
        "    activation=\"relu\",\n",
        "    kernel_initializer=GlorotUniform(),\n",
        "    kernel_regularizer=l2(0.01),\n",
        ")(x)\n",
        "x = BatchNormalization()(x)\n",
        "x = Dropout(0.2)(x)\n",
        "output = Dense(n_classes, activation=\"softmax\")(x)\n",
        "\n",
        "model = Model(input, output)"
      ]
    },
    {
      "cell_type": "code",
      "execution_count": null,
      "metadata": {
        "ExecuteTime": {
          "end_time": "2023-06-18T17:19:36.472379Z",
          "start_time": "2023-06-18T17:19:36.429831Z"
        },
        "id": "a2zbF_Xon05E",
        "outputId": "9f058f00-b8e4-4b74-d2a8-ccb994ec3b4f"
      },
      "outputs": [
        {
          "name": "stdout",
          "output_type": "stream",
          "text": [
            "Model: \"model\"\n",
            "_________________________________________________________________\n",
            " Layer (type)                Output Shape              Param #   \n",
            "=================================================================\n",
            " input_5 (InputLayer)        [(None, 224, 224, 3)]     0         \n",
            "                                                                 \n",
            " tf.__operators__.getitem (S  (None, 224, 224, 3)      0         \n",
            " licingOpLambda)                                                 \n",
            "                                                                 \n",
            " tf.nn.bias_add (TFOpLambda)  (None, 224, 224, 3)      0         \n",
            "                                                                 \n",
            " vgg16 (Functional)          (None, 7, 7, 512)         14714688  \n",
            "                                                                 \n",
            " global_average_pooling2d (G  (None, 512)              0         \n",
            " lobalAveragePooling2D)                                          \n",
            "                                                                 \n",
            " dense (Dense)               (None, 256)               131328    \n",
            "                                                                 \n",
            " batch_normalization (BatchN  (None, 256)              1024      \n",
            " ormalization)                                                   \n",
            "                                                                 \n",
            " dropout (Dropout)           (None, 256)               0         \n",
            "                                                                 \n",
            " dense_1 (Dense)             (None, 128)               32896     \n",
            "                                                                 \n",
            " batch_normalization_1 (Batc  (None, 128)              512       \n",
            " hNormalization)                                                 \n",
            "                                                                 \n",
            " dropout_1 (Dropout)         (None, 128)               0         \n",
            "                                                                 \n",
            " dense_2 (Dense)             (None, 64)                8256      \n",
            "                                                                 \n",
            " batch_normalization_2 (Batc  (None, 64)               256       \n",
            " hNormalization)                                                 \n",
            "                                                                 \n",
            " dropout_2 (Dropout)         (None, 64)                0         \n",
            "                                                                 \n",
            " dense_3 (Dense)             (None, 10)                650       \n",
            "                                                                 \n",
            "=================================================================\n",
            "Total params: 14,889,610\n",
            "Trainable params: 174,026\n",
            "Non-trainable params: 14,715,584\n",
            "_________________________________________________________________\n"
          ]
        },
        {
          "data": {
            "application/javascript": [
              "\n",
              "            setTimeout(function() {\n",
              "                var nbb_cell_id = 24;\n",
              "                var nbb_unformatted_code = \"model.summary()\";\n",
              "                var nbb_formatted_code = \"model.summary()\";\n",
              "                var nbb_cells = Jupyter.notebook.get_cells();\n",
              "                for (var i = 0; i < nbb_cells.length; ++i) {\n",
              "                    if (nbb_cells[i].input_prompt_number == nbb_cell_id) {\n",
              "                        if (nbb_cells[i].get_text() == nbb_unformatted_code) {\n",
              "                             nbb_cells[i].set_text(nbb_formatted_code);\n",
              "                        }\n",
              "                        break;\n",
              "                    }\n",
              "                }\n",
              "            }, 500);\n",
              "            "
            ],
            "text/plain": [
              "<IPython.core.display.Javascript object>"
            ]
          },
          "metadata": {},
          "output_type": "display_data"
        }
      ],
      "source": [
        "model.summary()"
      ]
    },
    {
      "cell_type": "markdown",
      "metadata": {
        "id": "xPJ2QJ2R0YJG"
      },
      "source": [
        "**4.** Train the new model: `model.fit(...)`"
      ]
    },
    {
      "cell_type": "code",
      "execution_count": null,
      "metadata": {
        "ExecuteTime": {
          "end_time": "2023-06-18T17:19:37.314545Z",
          "start_time": "2023-06-18T17:19:37.287545Z"
        },
        "id": "triyx-Bn99-w",
        "outputId": "0d8695f7-b64e-42d7-9a97-f388d6b012d0"
      },
      "outputs": [
        {
          "data": {
            "application/javascript": [
              "\n",
              "            setTimeout(function() {\n",
              "                var nbb_cell_id = 25;\n",
              "                var nbb_unformatted_code = \"model.compile(optimizer=\\\"Adam\\\", loss=\\\"categorical_crossentropy\\\", metrics=[\\\"accuracy\\\"])\";\n",
              "                var nbb_formatted_code = \"model.compile(optimizer=\\\"Adam\\\", loss=\\\"categorical_crossentropy\\\", metrics=[\\\"accuracy\\\"])\";\n",
              "                var nbb_cells = Jupyter.notebook.get_cells();\n",
              "                for (var i = 0; i < nbb_cells.length; ++i) {\n",
              "                    if (nbb_cells[i].input_prompt_number == nbb_cell_id) {\n",
              "                        if (nbb_cells[i].get_text() == nbb_unformatted_code) {\n",
              "                             nbb_cells[i].set_text(nbb_formatted_code);\n",
              "                        }\n",
              "                        break;\n",
              "                    }\n",
              "                }\n",
              "            }, 500);\n",
              "            "
            ],
            "text/plain": [
              "<IPython.core.display.Javascript object>"
            ]
          },
          "metadata": {},
          "output_type": "display_data"
        }
      ],
      "source": [
        "model.compile(optimizer=\"Adam\", loss=\"categorical_crossentropy\", metrics=[\"accuracy\"])\n"
      ]
    },
    {
      "cell_type": "code",
      "execution_count": null,
      "metadata": {
        "ExecuteTime": {
          "end_time": "2023-06-18T17:19:37.702900Z",
          "start_time": "2023-06-18T17:19:37.682926Z"
        },
        "id": "aUz6TRVEn05F",
        "outputId": "aa7d0a72-1311-4a4a-c96e-d85a39ab6d45"
      },
      "outputs": [
        {
          "data": {
            "application/javascript": [
              "\n",
              "            setTimeout(function() {\n",
              "                var nbb_cell_id = 26;\n",
              "                var nbb_unformatted_code = \"# Define the learning rate scheduler\\ndef learning_rate_scheduler(epoch):\\n    initial_lr = 0.001\\n    decay_factor = 0.1\\n    decay_epochs = 10\\n    lr = initial_lr * decay_factor ** (epoch // decay_epochs)\\n    return lr\\n\\n\\nlr_scheduler = LearningRateScheduler(learning_rate_scheduler)\";\n",
              "                var nbb_formatted_code = \"# Define the learning rate scheduler\\ndef learning_rate_scheduler(epoch):\\n    initial_lr = 0.001\\n    decay_factor = 0.1\\n    decay_epochs = 10\\n    lr = initial_lr * decay_factor ** (epoch // decay_epochs)\\n    return lr\\n\\n\\nlr_scheduler = LearningRateScheduler(learning_rate_scheduler)\";\n",
              "                var nbb_cells = Jupyter.notebook.get_cells();\n",
              "                for (var i = 0; i < nbb_cells.length; ++i) {\n",
              "                    if (nbb_cells[i].input_prompt_number == nbb_cell_id) {\n",
              "                        if (nbb_cells[i].get_text() == nbb_unformatted_code) {\n",
              "                             nbb_cells[i].set_text(nbb_formatted_code);\n",
              "                        }\n",
              "                        break;\n",
              "                    }\n",
              "                }\n",
              "            }, 500);\n",
              "            "
            ],
            "text/plain": [
              "<IPython.core.display.Javascript object>"
            ]
          },
          "metadata": {},
          "output_type": "display_data"
        }
      ],
      "source": [
        "# Define the learning rate scheduler\n",
        "def learning_rate_scheduler(epoch):\n",
        "    initial_lr = 0.001\n",
        "    decay_factor = 0.1\n",
        "    decay_epochs = 10\n",
        "    lr = initial_lr * decay_factor ** (epoch // decay_epochs)\n",
        "    return lr\n",
        "\n",
        "\n",
        "lr_scheduler = LearningRateScheduler(learning_rate_scheduler)"
      ]
    },
    {
      "cell_type": "code",
      "execution_count": null,
      "metadata": {
        "ExecuteTime": {
          "end_time": "2023-06-18T17:35:50.881091Z",
          "start_time": "2023-06-18T17:19:38.207671Z"
        },
        "id": "ZmyCoWx1n05F",
        "outputId": "806c4447-8d41-4449-f8eb-c93d1e72f6e9"
      },
      "outputs": [
        {
          "data": {
            "image/png": "[encoded data removed]",
            "text/plain": [
              "<Figure size 1200x800 with 2 Axes>"
            ]
          },
          "metadata": {},
          "output_type": "display_data"
        },
        {
          "name": "stdout",
          "output_type": "stream",
          "text": [
            "accuracy\n",
            "\ttraining         \t (min:    0.352, max:    0.566, cur:    0.556)\n",
            "\tvalidation       \t (min:    0.110, max:    0.619, cur:    0.618)\n",
            "Loss\n",
            "\ttraining         \t (min:    1.281, max:    3.222, cur:    1.296)\n",
            "\tvalidation       \t (min:    1.168, max:  161.415, cur:    1.169)\n",
            "507/507 [==============================] - 15s 29ms/step - loss: 1.2959 - accuracy: 0.5560 - val_loss: 1.1687 - val_accuracy: 0.6181 - lr: 1.0000e-09\n",
            "Epoch 63: early stopping\n"
          ]
        },
        {
          "data": {
            "application/javascript": [
              "\n",
              "            setTimeout(function() {\n",
              "                var nbb_cell_id = 27;\n",
              "                var nbb_unformatted_code = \"history_tl = model.fit(\\n    data_gen_train,\\n    validation_data=data_gen_val,\\n    epochs=200,\\n    callbacks=[\\n        cb_autosave_tl,\\n        cb_early_stop,\\n        cb_tensorboard_tl,\\n        plot_loss_1,\\n        lr_scheduler,\\n        reduce_lr,\\n    ],\\n)\";\n",
              "                var nbb_formatted_code = \"history_tl = model.fit(\\n    data_gen_train,\\n    validation_data=data_gen_val,\\n    epochs=200,\\n    callbacks=[\\n        cb_autosave_tl,\\n        cb_early_stop,\\n        cb_tensorboard_tl,\\n        plot_loss_1,\\n        lr_scheduler,\\n        reduce_lr,\\n    ],\\n)\";\n",
              "                var nbb_cells = Jupyter.notebook.get_cells();\n",
              "                for (var i = 0; i < nbb_cells.length; ++i) {\n",
              "                    if (nbb_cells[i].input_prompt_number == nbb_cell_id) {\n",
              "                        if (nbb_cells[i].get_text() == nbb_unformatted_code) {\n",
              "                             nbb_cells[i].set_text(nbb_formatted_code);\n",
              "                        }\n",
              "                        break;\n",
              "                    }\n",
              "                }\n",
              "            }, 500);\n",
              "            "
            ],
            "text/plain": [
              "<IPython.core.display.Javascript object>"
            ]
          },
          "metadata": {},
          "output_type": "display_data"
        }
      ],
      "source": [
        "history_tl = model.fit(\n",
        "    data_gen_train,\n",
        "    validation_data=data_gen_val,\n",
        "    epochs=200,\n",
        "    callbacks=[\n",
        "        cb_autosave_tl,\n",
        "        cb_early_stop,\n",
        "        cb_tensorboard_tl,\n",
        "        plot_loss_1,\n",
        "        lr_scheduler,\n",
        "        reduce_lr,\n",
        "    ],\n",
        ")"
      ]
    },
    {
      "cell_type": "markdown",
      "metadata": {
        "id": "BsKs_ptO0ZVQ"
      },
      "source": [
        "**5.** $trainable\\_parameters = head\\_parameters $"
      ]
    },
    {
      "cell_type": "code",
      "execution_count": null,
      "metadata": {
        "ExecuteTime": {
          "end_time": "2023-06-18T17:35:50.926936Z",
          "start_time": "2023-06-18T17:35:50.882903Z"
        },
        "colab": {
          "base_uri": "https://localhost:8080/"
        },
        "id": "SQlOBNDC0Zrx",
        "outputId": "21e6afa9-4f25-4e41-a92f-31095eac01be",
        "scrolled": true
      },
      "outputs": [
        {
          "name": "stdout",
          "output_type": "stream",
          "text": [
            "Model: \"model\"\n",
            "_________________________________________________________________\n",
            " Layer (type)                Output Shape              Param #   \n",
            "=================================================================\n",
            " input_5 (InputLayer)        [(None, 224, 224, 3)]     0         \n",
            "                                                                 \n",
            " tf.__operators__.getitem (S  (None, 224, 224, 3)      0         \n",
            " licingOpLambda)                                                 \n",
            "                                                                 \n",
            " tf.nn.bias_add (TFOpLambda)  (None, 224, 224, 3)      0         \n",
            "                                                                 \n",
            " vgg16 (Functional)          (None, 7, 7, 512)         14714688  \n",
            "                                                                 \n",
            " global_average_pooling2d (G  (None, 512)              0         \n",
            " lobalAveragePooling2D)                                          \n",
            "                                                                 \n",
            " dense (Dense)               (None, 256)               131328    \n",
            "                                                                 \n",
            " batch_normalization (BatchN  (None, 256)              1024      \n",
            " ormalization)                                                   \n",
            "                                                                 \n",
            " dropout (Dropout)           (None, 256)               0         \n",
            "                                                                 \n",
            " dense_1 (Dense)             (None, 128)               32896     \n",
            "                                                                 \n",
            " batch_normalization_1 (Batc  (None, 128)              512       \n",
            " hNormalization)                                                 \n",
            "                                                                 \n",
            " dropout_1 (Dropout)         (None, 128)               0         \n",
            "                                                                 \n",
            " dense_2 (Dense)             (None, 64)                8256      \n",
            "                                                                 \n",
            " batch_normalization_2 (Batc  (None, 64)               256       \n",
            " hNormalization)                                                 \n",
            "                                                                 \n",
            " dropout_2 (Dropout)         (None, 64)                0         \n",
            "                                                                 \n",
            " dense_3 (Dense)             (None, 10)                650       \n",
            "                                                                 \n",
            "=================================================================\n",
            "Total params: 14,889,610\n",
            "Trainable params: 174,026\n",
            "Non-trainable params: 14,715,584\n",
            "_________________________________________________________________\n"
          ]
        },
        {
          "data": {
            "application/javascript": [
              "\n",
              "            setTimeout(function() {\n",
              "                var nbb_cell_id = 28;\n",
              "                var nbb_unformatted_code = \"model.summary()\";\n",
              "                var nbb_formatted_code = \"model.summary()\";\n",
              "                var nbb_cells = Jupyter.notebook.get_cells();\n",
              "                for (var i = 0; i < nbb_cells.length; ++i) {\n",
              "                    if (nbb_cells[i].input_prompt_number == nbb_cell_id) {\n",
              "                        if (nbb_cells[i].get_text() == nbb_unformatted_code) {\n",
              "                             nbb_cells[i].set_text(nbb_formatted_code);\n",
              "                        }\n",
              "                        break;\n",
              "                    }\n",
              "                }\n",
              "            }, 500);\n",
              "            "
            ],
            "text/plain": [
              "<IPython.core.display.Javascript object>"
            ]
          },
          "metadata": {},
          "output_type": "display_data"
        }
      ],
      "source": [
        "model.summary()"
      ]
    },
    {
      "cell_type": "code",
      "execution_count": null,
      "metadata": {
        "ExecuteTime": {
          "end_time": "2023-06-18T17:19:10.720198Z",
          "start_time": "2023-06-18T17:15:09.951650Z"
        },
        "id": "salmveMgn05F"
      },
      "outputs": [],
      "source": [
        "!tensorboard dev upload --logdir logs_tl --name \"Transfer Learning using EuroSAT dataset\" --one_shot\n"
      ]
    },
    {
      "cell_type": "code",
      "execution_count": null,
      "metadata": {
        "ExecuteTime": {
          "end_time": "2023-06-18T17:35:50.941985Z",
          "start_time": "2023-06-18T17:35:50.928940Z"
        },
        "id": "Urfiwgrnn05G",
        "outputId": "a28b6a44-3a46-414f-902d-4bf1fd681445"
      },
      "outputs": [
        {
          "data": {
            "application/javascript": [
              "\n",
              "            setTimeout(function() {\n",
              "                var nbb_cell_id = 29;\n",
              "                var nbb_unformatted_code = \"data_gen_test = DataGenerator(\\n    path_images=x_test,\\n    labels=y_test,\\n    batch_size=BATCH_SIZE,\\n    n_classes=n_classes,\\n    target_size=TARGET_SIZE,\\n    shuffle=False,\\n)\";\n",
              "                var nbb_formatted_code = \"data_gen_test = DataGenerator(\\n    path_images=x_test,\\n    labels=y_test,\\n    batch_size=BATCH_SIZE,\\n    n_classes=n_classes,\\n    target_size=TARGET_SIZE,\\n    shuffle=False,\\n)\";\n",
              "                var nbb_cells = Jupyter.notebook.get_cells();\n",
              "                for (var i = 0; i < nbb_cells.length; ++i) {\n",
              "                    if (nbb_cells[i].input_prompt_number == nbb_cell_id) {\n",
              "                        if (nbb_cells[i].get_text() == nbb_unformatted_code) {\n",
              "                             nbb_cells[i].set_text(nbb_formatted_code);\n",
              "                        }\n",
              "                        break;\n",
              "                    }\n",
              "                }\n",
              "            }, 500);\n",
              "            "
            ],
            "text/plain": [
              "<IPython.core.display.Javascript object>"
            ]
          },
          "metadata": {},
          "output_type": "display_data"
        }
      ],
      "source": [
        "data_gen_test = DataGenerator(\n",
        "    path_images=x_test,\n",
        "    labels=y_test,\n",
        "    batch_size=BATCH_SIZE,\n",
        "    n_classes=n_classes,\n",
        "    target_size=TARGET_SIZE,\n",
        "    shuffle=False,\n",
        ")\n"
      ]
    },
    {
      "cell_type": "code",
      "execution_count": null,
      "metadata": {
        "ExecuteTime": {
          "end_time": "2023-06-18T17:37:00.388737Z",
          "start_time": "2023-06-18T17:35:50.945985Z"
        },
        "id": "MBNlZjqJn05G",
        "outputId": "9be2e8d8-586e-4f13-81b1-70912375b817"
      },
      "outputs": [
        {
          "name": "stdout",
          "output_type": "stream",
          "text": [
            "Best model loaded from 'VGG_Model_tl.h5'\n",
            "Train:\n",
            "507/507 [==============================] - 8s 16ms/step - loss: 1.1476 - accuracy: 0.6215\n",
            "Validation:\n",
            "169/169 [==============================] - 3s 17ms/step - loss: 1.1706 - accuracy: 0.6191\n",
            "Test:\n",
            "169/169 [==============================] - 57s 340ms/step - loss: 1.1660 - accuracy: 0.6207\n"
          ]
        },
        {
          "data": {
            "application/javascript": [
              "\n",
              "            setTimeout(function() {\n",
              "                var nbb_cell_id = 30;\n",
              "                var nbb_unformatted_code = \"from tensorflow.keras.models import load_model\\n\\n# Load the best model\\nbest_model = load_model(\\\"VGG_Model_tl.h5\\\")\\nprint(\\\"Best model loaded from 'VGG_Model_tl.h5'\\\")\\n\\n# Evaluate on the training set\\nprint(\\\"Train:\\\")\\nscores_train = best_model.evaluate(data_gen_train)\\nprint(\\\"Validation:\\\")\\nscores_val = best_model.evaluate(data_gen_val)\\nprint(\\\"Test:\\\")\\nscores_test = best_model.evaluate(data_gen_test)\";\n",
              "                var nbb_formatted_code = \"from tensorflow.keras.models import load_model\\n\\n# Load the best model\\nbest_model = load_model(\\\"VGG_Model_tl.h5\\\")\\nprint(\\\"Best model loaded from 'VGG_Model_tl.h5'\\\")\\n\\n# Evaluate on the training set\\nprint(\\\"Train:\\\")\\nscores_train = best_model.evaluate(data_gen_train)\\nprint(\\\"Validation:\\\")\\nscores_val = best_model.evaluate(data_gen_val)\\nprint(\\\"Test:\\\")\\nscores_test = best_model.evaluate(data_gen_test)\";\n",
              "                var nbb_cells = Jupyter.notebook.get_cells();\n",
              "                for (var i = 0; i < nbb_cells.length; ++i) {\n",
              "                    if (nbb_cells[i].input_prompt_number == nbb_cell_id) {\n",
              "                        if (nbb_cells[i].get_text() == nbb_unformatted_code) {\n",
              "                             nbb_cells[i].set_text(nbb_formatted_code);\n",
              "                        }\n",
              "                        break;\n",
              "                    }\n",
              "                }\n",
              "            }, 500);\n",
              "            "
            ],
            "text/plain": [
              "<IPython.core.display.Javascript object>"
            ]
          },
          "metadata": {},
          "output_type": "display_data"
        }
      ],
      "source": [
        "from tensorflow.keras.models import load_model\n",
        "\n",
        "# Load the best model\n",
        "best_model = load_model(\"VGG_Model_tl.h5\")\n",
        "print(\"Best model loaded from 'VGG_Model_tl.h5'\")\n",
        "\n",
        "# Evaluate on the training set\n",
        "print(\"Train:\")\n",
        "scores_train = best_model.evaluate(data_gen_train)\n",
        "print(\"Validation:\")\n",
        "scores_val = best_model.evaluate(data_gen_val)\n",
        "print(\"Test:\")\n",
        "scores_test = best_model.evaluate(data_gen_test)"
      ]
    },
    {
      "cell_type": "code",
      "execution_count": null,
      "metadata": {
        "ExecuteTime": {
          "end_time": "2023-06-18T17:37:00.434268Z",
          "start_time": "2023-06-18T17:37:00.390548Z"
        },
        "id": "FC0Wqd3Jn05G",
        "outputId": "2f2f5709-2d6a-4761-9cf5-44fed9fd4aa3"
      },
      "outputs": [
        {
          "name": "stdout",
          "output_type": "stream",
          "text": [
            "+------------+---------+------------+\n",
            "| Set        |    Loss |   Accuracy |\n",
            "+============+=========+============+\n",
            "| Train      | 1.14765 |   0.621481 |\n",
            "+------------+---------+------------+\n",
            "| Validation | 1.17064 |   0.619074 |\n",
            "+------------+---------+------------+\n",
            "| Test       | 1.16603 |   0.620741 |\n",
            "+------------+---------+------------+\n"
          ]
        },
        {
          "data": {
            "application/javascript": [
              "\n",
              "            setTimeout(function() {\n",
              "                var nbb_cell_id = 31;\n",
              "                var nbb_unformatted_code = \"from tabulate import tabulate\\n\\n\\n# Create a table with the evaluation results\\ntable_data = [\\n    [\\\"Train\\\", *scores_train],\\n    [\\\"Validation\\\", *scores_val],\\n    [\\\"Test\\\", *scores_test]\\n]\\n\\ntable_headers = [\\\"Set\\\", \\\"Loss\\\", \\\"Accuracy\\\"]\\n\\n# Print the table\\nprint(tabulate(table_data, headers=table_headers, tablefmt=\\\"grid\\\"))\";\n",
              "                var nbb_formatted_code = \"from tabulate import tabulate\\n\\n\\n# Create a table with the evaluation results\\ntable_data = [\\n    [\\\"Train\\\", *scores_train],\\n    [\\\"Validation\\\", *scores_val],\\n    [\\\"Test\\\", *scores_test],\\n]\\n\\ntable_headers = [\\\"Set\\\", \\\"Loss\\\", \\\"Accuracy\\\"]\\n\\n# Print the table\\nprint(tabulate(table_data, headers=table_headers, tablefmt=\\\"grid\\\"))\";\n",
              "                var nbb_cells = Jupyter.notebook.get_cells();\n",
              "                for (var i = 0; i < nbb_cells.length; ++i) {\n",
              "                    if (nbb_cells[i].input_prompt_number == nbb_cell_id) {\n",
              "                        if (nbb_cells[i].get_text() == nbb_unformatted_code) {\n",
              "                             nbb_cells[i].set_text(nbb_formatted_code);\n",
              "                        }\n",
              "                        break;\n",
              "                    }\n",
              "                }\n",
              "            }, 500);\n",
              "            "
            ],
            "text/plain": [
              "<IPython.core.display.Javascript object>"
            ]
          },
          "metadata": {},
          "output_type": "display_data"
        }
      ],
      "source": [
        "from tabulate import tabulate\n",
        "\n",
        "\n",
        "# Create a table with the evaluation results\n",
        "table_data = [\n",
        "    [\"Train\", *scores_train],\n",
        "    [\"Validation\", *scores_val],\n",
        "    [\"Test\", *scores_test]\n",
        "]\n",
        "\n",
        "table_headers = [\"Set\", \"Loss\", \"Accuracy\"]\n",
        "\n",
        "# Print the table\n",
        "print(tabulate(table_data, headers=table_headers, tablefmt=\"grid\"))\n"
      ]
    },
    {
      "cell_type": "markdown",
      "metadata": {
        "id": "J56zeInPzzHG"
      },
      "source": [
        "## **Fine tuning**"
      ]
    },
    {
      "cell_type": "markdown",
      "metadata": {
        "id": "JEiq3i_S2T3I"
      },
      "source": [
        "  **1.** Take a pre-trained model as $base\\_model$\n"
      ]
    },
    {
      "cell_type": "code",
      "execution_count": null,
      "metadata": {
        "ExecuteTime": {
          "end_time": "2023-06-18T17:37:00.713543Z",
          "start_time": "2023-06-18T17:37:00.435865Z"
        },
        "id": "mzKZ4EXoz2I7",
        "outputId": "b238435c-5291-4574-ea21-01a838831717"
      },
      "outputs": [
        {
          "data": {
            "application/javascript": [
              "\n",
              "            setTimeout(function() {\n",
              "                var nbb_cell_id = 32;\n",
              "                var nbb_unformatted_code = \"vgg16_base = VGG16(include_top=False, weights=\\\"imagenet\\\", input_shape=(224, 224, 3))\";\n",
              "                var nbb_formatted_code = \"vgg16_base = VGG16(include_top=False, weights=\\\"imagenet\\\", input_shape=(224, 224, 3))\";\n",
              "                var nbb_cells = Jupyter.notebook.get_cells();\n",
              "                for (var i = 0; i < nbb_cells.length; ++i) {\n",
              "                    if (nbb_cells[i].input_prompt_number == nbb_cell_id) {\n",
              "                        if (nbb_cells[i].get_text() == nbb_unformatted_code) {\n",
              "                             nbb_cells[i].set_text(nbb_formatted_code);\n",
              "                        }\n",
              "                        break;\n",
              "                    }\n",
              "                }\n",
              "            }, 500);\n",
              "            "
            ],
            "text/plain": [
              "<IPython.core.display.Javascript object>"
            ]
          },
          "metadata": {},
          "output_type": "display_data"
        }
      ],
      "source": [
        "vgg16_base = VGG16(include_top=False, weights=\"imagenet\", input_shape=(224, 224, 3))"
      ]
    },
    {
      "cell_type": "markdown",
      "metadata": {
        "id": "FB9QmbLx2Vsv"
      },
      "source": [
        "**2.** Freeze some layers of the $base\\_model$\n"
      ]
    },
    {
      "cell_type": "code",
      "execution_count": null,
      "metadata": {
        "ExecuteTime": {
          "end_time": "2023-06-18T17:37:00.760710Z",
          "start_time": "2023-06-18T17:37:00.718151Z"
        },
        "colab": {
          "base_uri": "https://localhost:8080/"
        },
        "id": "QukiewE12V3S",
        "outputId": "8d0f6e4c-7cde-4b04-f7ad-a921792adf25"
      },
      "outputs": [
        {
          "name": "stdout",
          "output_type": "stream",
          "text": [
            "Model: \"vgg16\"\n",
            "_________________________________________________________________\n",
            " Layer (type)                Output Shape              Param #   \n",
            "=================================================================\n",
            " input_6 (InputLayer)        [(None, 224, 224, 3)]     0         \n",
            "                                                                 \n",
            " block1_conv1 (Conv2D)       (None, 224, 224, 64)      1792      \n",
            "                                                                 \n",
            " block1_conv2 (Conv2D)       (None, 224, 224, 64)      36928     \n",
            "                                                                 \n",
            " block1_pool (MaxPooling2D)  (None, 112, 112, 64)      0         \n",
            "                                                                 \n",
            " block2_conv1 (Conv2D)       (None, 112, 112, 128)     73856     \n",
            "                                                                 \n",
            " block2_conv2 (Conv2D)       (None, 112, 112, 128)     147584    \n",
            "                                                                 \n",
            " block2_pool (MaxPooling2D)  (None, 56, 56, 128)       0         \n",
            "                                                                 \n",
            " block3_conv1 (Conv2D)       (None, 56, 56, 256)       295168    \n",
            "                                                                 \n",
            " block3_conv2 (Conv2D)       (None, 56, 56, 256)       590080    \n",
            "                                                                 \n",
            " block3_conv3 (Conv2D)       (None, 56, 56, 256)       590080    \n",
            "                                                                 \n",
            " block3_pool (MaxPooling2D)  (None, 28, 28, 256)       0         \n",
            "                                                                 \n",
            " block4_conv1 (Conv2D)       (None, 28, 28, 512)       1180160   \n",
            "                                                                 \n",
            " block4_conv2 (Conv2D)       (None, 28, 28, 512)       2359808   \n",
            "                                                                 \n",
            " block4_conv3 (Conv2D)       (None, 28, 28, 512)       2359808   \n",
            "                                                                 \n",
            " block4_pool (MaxPooling2D)  (None, 14, 14, 512)       0         \n",
            "                                                                 \n",
            " block5_conv1 (Conv2D)       (None, 14, 14, 512)       2359808   \n",
            "                                                                 \n",
            " block5_conv2 (Conv2D)       (None, 14, 14, 512)       2359808   \n",
            "                                                                 \n",
            " block5_conv3 (Conv2D)       (None, 14, 14, 512)       2359808   \n",
            "                                                                 \n",
            " block5_pool (MaxPooling2D)  (None, 7, 7, 512)         0         \n",
            "                                                                 \n",
            "=================================================================\n",
            "Total params: 14,714,688\n",
            "Trainable params: 14,714,688\n",
            "Non-trainable params: 0\n",
            "_________________________________________________________________\n"
          ]
        },
        {
          "data": {
            "application/javascript": [
              "\n",
              "            setTimeout(function() {\n",
              "                var nbb_cell_id = 33;\n",
              "                var nbb_unformatted_code = \"vgg16_base.summary()\";\n",
              "                var nbb_formatted_code = \"vgg16_base.summary()\";\n",
              "                var nbb_cells = Jupyter.notebook.get_cells();\n",
              "                for (var i = 0; i < nbb_cells.length; ++i) {\n",
              "                    if (nbb_cells[i].input_prompt_number == nbb_cell_id) {\n",
              "                        if (nbb_cells[i].get_text() == nbb_unformatted_code) {\n",
              "                             nbb_cells[i].set_text(nbb_formatted_code);\n",
              "                        }\n",
              "                        break;\n",
              "                    }\n",
              "                }\n",
              "            }, 500);\n",
              "            "
            ],
            "text/plain": [
              "<IPython.core.display.Javascript object>"
            ]
          },
          "metadata": {},
          "output_type": "display_data"
        }
      ],
      "source": [
        "vgg16_base.summary()"
      ]
    },
    {
      "cell_type": "code",
      "execution_count": null,
      "metadata": {
        "ExecuteTime": {
          "end_time": "2023-06-18T17:37:00.807829Z",
          "start_time": "2023-06-18T17:37:00.762712Z"
        },
        "colab": {
          "base_uri": "https://localhost:8080/"
        },
        "id": "aJsx9abB2rFB",
        "outputId": "75302e8b-8f40-4290-9702-d98404a490bc"
      },
      "outputs": [
        {
          "name": "stdout",
          "output_type": "stream",
          "text": [
            "Model: \"vgg16\"\n",
            "_________________________________________________________________\n",
            " Layer (type)                Output Shape              Param #   \n",
            "=================================================================\n",
            " input_6 (InputLayer)        [(None, 224, 224, 3)]     0         \n",
            "                                                                 \n",
            " block1_conv1 (Conv2D)       (None, 224, 224, 64)      1792      \n",
            "                                                                 \n",
            " block1_conv2 (Conv2D)       (None, 224, 224, 64)      36928     \n",
            "                                                                 \n",
            " block1_pool (MaxPooling2D)  (None, 112, 112, 64)      0         \n",
            "                                                                 \n",
            " block2_conv1 (Conv2D)       (None, 112, 112, 128)     73856     \n",
            "                                                                 \n",
            " block2_conv2 (Conv2D)       (None, 112, 112, 128)     147584    \n",
            "                                                                 \n",
            " block2_pool (MaxPooling2D)  (None, 56, 56, 128)       0         \n",
            "                                                                 \n",
            " block3_conv1 (Conv2D)       (None, 56, 56, 256)       295168    \n",
            "                                                                 \n",
            " block3_conv2 (Conv2D)       (None, 56, 56, 256)       590080    \n",
            "                                                                 \n",
            " block3_conv3 (Conv2D)       (None, 56, 56, 256)       590080    \n",
            "                                                                 \n",
            " block3_pool (MaxPooling2D)  (None, 28, 28, 256)       0         \n",
            "                                                                 \n",
            " block4_conv1 (Conv2D)       (None, 28, 28, 512)       1180160   \n",
            "                                                                 \n",
            " block4_conv2 (Conv2D)       (None, 28, 28, 512)       2359808   \n",
            "                                                                 \n",
            " block4_conv3 (Conv2D)       (None, 28, 28, 512)       2359808   \n",
            "                                                                 \n",
            " block4_pool (MaxPooling2D)  (None, 14, 14, 512)       0         \n",
            "                                                                 \n",
            " block5_conv1 (Conv2D)       (None, 14, 14, 512)       2359808   \n",
            "                                                                 \n",
            " block5_conv2 (Conv2D)       (None, 14, 14, 512)       2359808   \n",
            "                                                                 \n",
            " block5_conv3 (Conv2D)       (None, 14, 14, 512)       2359808   \n",
            "                                                                 \n",
            " block5_pool (MaxPooling2D)  (None, 7, 7, 512)         0         \n",
            "                                                                 \n",
            "=================================================================\n",
            "Total params: 14,714,688\n",
            "Trainable params: 4,719,616\n",
            "Non-trainable params: 9,995,072\n",
            "_________________________________________________________________\n"
          ]
        },
        {
          "data": {
            "application/javascript": [
              "\n",
              "            setTimeout(function() {\n",
              "                var nbb_cell_id = 34;\n",
              "                var nbb_unformatted_code = \"vgg16_base = freeze_up_to(vgg16_base, \\\"block5_conv2\\\")\\nvgg16_base.summary()\";\n",
              "                var nbb_formatted_code = \"vgg16_base = freeze_up_to(vgg16_base, \\\"block5_conv2\\\")\\nvgg16_base.summary()\";\n",
              "                var nbb_cells = Jupyter.notebook.get_cells();\n",
              "                for (var i = 0; i < nbb_cells.length; ++i) {\n",
              "                    if (nbb_cells[i].input_prompt_number == nbb_cell_id) {\n",
              "                        if (nbb_cells[i].get_text() == nbb_unformatted_code) {\n",
              "                             nbb_cells[i].set_text(nbb_formatted_code);\n",
              "                        }\n",
              "                        break;\n",
              "                    }\n",
              "                }\n",
              "            }, 500);\n",
              "            "
            ],
            "text/plain": [
              "<IPython.core.display.Javascript object>"
            ]
          },
          "metadata": {},
          "output_type": "display_data"
        }
      ],
      "source": [
        "vgg16_base = freeze_up_to(vgg16_base, \"block5_conv2\")\n",
        "vgg16_base.summary()"
      ]
    },
    {
      "cell_type": "markdown",
      "metadata": {
        "id": "KOS9G6oJ2WAi"
      },
      "source": [
        "**3.** Add a $head$ (classification layers) to the $base\\_model$\n"
      ]
    },
    {
      "cell_type": "code",
      "execution_count": null,
      "metadata": {
        "ExecuteTime": {
          "end_time": "2023-06-18T17:37:00.947119Z",
          "start_time": "2023-06-18T17:37:00.809830Z"
        },
        "id": "6R77CUye2WHm",
        "outputId": "adfd0dbf-99a1-4df3-b67d-f0d470394d49"
      },
      "outputs": [
        {
          "data": {
            "application/javascript": [
              "\n",
              "            setTimeout(function() {\n",
              "                var nbb_cell_id = 35;\n",
              "                var nbb_unformatted_code = \"input = Input(shape=(224, 224, 3))\\nx = preprocess_input(input)\\nx = vgg16_base(x)\\nx = GlobalAveragePooling2D()(x)\\nx = Dense(\\n    256,\\n    activation=\\\"relu\\\",\\n    kernel_initializer=GlorotUniform(),\\n    kernel_regularizer=l2(0.01),\\n)(x)\\nx = BatchNormalization()(x)\\nx = Dropout(0.5)(x)\\nx = Dense(\\n    128,\\n    activation=\\\"relu\\\",\\n    kernel_initializer=GlorotUniform(),\\n    kernel_regularizer=l2(0.01),\\n)(x)\\nx = BatchNormalization()(x)\\nx = Dropout(0.3)(x)\\nx = Dense(\\n    64,\\n    activation=\\\"relu\\\",\\n    kernel_initializer=GlorotUniform(),\\n    kernel_regularizer=l2(0.01),\\n)(x)\\nx = BatchNormalization()(x)\\nx = Dropout(0.2)(x)\\n\\noutput = Dense(n_classes, activation=\\\"softmax\\\")(x)\\n\\nmodel_fn = Model(input, output)\";\n",
              "                var nbb_formatted_code = \"input = Input(shape=(224, 224, 3))\\nx = preprocess_input(input)\\nx = vgg16_base(x)\\nx = GlobalAveragePooling2D()(x)\\nx = Dense(\\n    256,\\n    activation=\\\"relu\\\",\\n    kernel_initializer=GlorotUniform(),\\n    kernel_regularizer=l2(0.01),\\n)(x)\\nx = BatchNormalization()(x)\\nx = Dropout(0.5)(x)\\nx = Dense(\\n    128,\\n    activation=\\\"relu\\\",\\n    kernel_initializer=GlorotUniform(),\\n    kernel_regularizer=l2(0.01),\\n)(x)\\nx = BatchNormalization()(x)\\nx = Dropout(0.3)(x)\\nx = Dense(\\n    64,\\n    activation=\\\"relu\\\",\\n    kernel_initializer=GlorotUniform(),\\n    kernel_regularizer=l2(0.01),\\n)(x)\\nx = BatchNormalization()(x)\\nx = Dropout(0.2)(x)\\n\\noutput = Dense(n_classes, activation=\\\"softmax\\\")(x)\\n\\nmodel_fn = Model(input, output)\";\n",
              "                var nbb_cells = Jupyter.notebook.get_cells();\n",
              "                for (var i = 0; i < nbb_cells.length; ++i) {\n",
              "                    if (nbb_cells[i].input_prompt_number == nbb_cell_id) {\n",
              "                        if (nbb_cells[i].get_text() == nbb_unformatted_code) {\n",
              "                             nbb_cells[i].set_text(nbb_formatted_code);\n",
              "                        }\n",
              "                        break;\n",
              "                    }\n",
              "                }\n",
              "            }, 500);\n",
              "            "
            ],
            "text/plain": [
              "<IPython.core.display.Javascript object>"
            ]
          },
          "metadata": {},
          "output_type": "display_data"
        }
      ],
      "source": [
        "input = Input(shape=(224, 224, 3))\n",
        "x = preprocess_input(input)\n",
        "x = vgg16_base(x)\n",
        "x = GlobalAveragePooling2D()(x)\n",
        "x = Dense(\n",
        "    256,\n",
        "    activation=\"relu\",\n",
        "    kernel_initializer=GlorotUniform(),\n",
        "    kernel_regularizer=l2(0.01),\n",
        ")(x)\n",
        "x = BatchNormalization()(x)\n",
        "x = Dropout(0.5)(x)\n",
        "x = Dense(\n",
        "    128,\n",
        "    activation=\"relu\",\n",
        "    kernel_initializer=GlorotUniform(),\n",
        "    kernel_regularizer=l2(0.01),\n",
        ")(x)\n",
        "x = BatchNormalization()(x)\n",
        "x = Dropout(0.3)(x)\n",
        "x = Dense(\n",
        "    64,\n",
        "    activation=\"relu\",\n",
        "    kernel_initializer=GlorotUniform(),\n",
        "    kernel_regularizer=l2(0.01),\n",
        ")(x)\n",
        "x = BatchNormalization()(x)\n",
        "x = Dropout(0.2)(x)\n",
        "\n",
        "output = Dense(n_classes, activation=\"softmax\")(x)\n",
        "\n",
        "model_fn = Model(input, output)"
      ]
    },
    {
      "cell_type": "code",
      "execution_count": null,
      "metadata": {
        "ExecuteTime": {
          "end_time": "2023-06-18T17:37:00.993567Z",
          "start_time": "2023-06-18T17:37:00.950070Z"
        },
        "colab": {
          "base_uri": "https://localhost:8080/"
        },
        "id": "PpaMeoc62bau",
        "outputId": "d7206aea-d89f-43be-84d2-cefa22d432fe"
      },
      "outputs": [
        {
          "name": "stdout",
          "output_type": "stream",
          "text": [
            "Model: \"model_1\"\n",
            "_________________________________________________________________\n",
            " Layer (type)                Output Shape              Param #   \n",
            "=================================================================\n",
            " input_7 (InputLayer)        [(None, 224, 224, 3)]     0         \n",
            "                                                                 \n",
            " tf.__operators__.getitem_1   (None, 224, 224, 3)      0         \n",
            " (SlicingOpLambda)                                               \n",
            "                                                                 \n",
            " tf.nn.bias_add_1 (TFOpLambd  (None, 224, 224, 3)      0         \n",
            " a)                                                              \n",
            "                                                                 \n",
            " vgg16 (Functional)          (None, 7, 7, 512)         14714688  \n",
            "                                                                 \n",
            " global_average_pooling2d_1   (None, 512)              0         \n",
            " (GlobalAveragePooling2D)                                        \n",
            "                                                                 \n",
            " dense_4 (Dense)             (None, 256)               131328    \n",
            "                                                                 \n",
            " batch_normalization_3 (Batc  (None, 256)              1024      \n",
            " hNormalization)                                                 \n",
            "                                                                 \n",
            " dropout_3 (Dropout)         (None, 256)               0         \n",
            "                                                                 \n",
            " dense_5 (Dense)             (None, 128)               32896     \n",
            "                                                                 \n",
            " batch_normalization_4 (Batc  (None, 128)              512       \n",
            " hNormalization)                                                 \n",
            "                                                                 \n",
            " dropout_4 (Dropout)         (None, 128)               0         \n",
            "                                                                 \n",
            " dense_6 (Dense)             (None, 64)                8256      \n",
            "                                                                 \n",
            " batch_normalization_5 (Batc  (None, 64)               256       \n",
            " hNormalization)                                                 \n",
            "                                                                 \n",
            " dropout_5 (Dropout)         (None, 64)                0         \n",
            "                                                                 \n",
            " dense_7 (Dense)             (None, 10)                650       \n",
            "                                                                 \n",
            "=================================================================\n",
            "Total params: 14,889,610\n",
            "Trainable params: 4,893,642\n",
            "Non-trainable params: 9,995,968\n",
            "_________________________________________________________________\n"
          ]
        },
        {
          "data": {
            "application/javascript": [
              "\n",
              "            setTimeout(function() {\n",
              "                var nbb_cell_id = 36;\n",
              "                var nbb_unformatted_code = \"model_fn.summary()\";\n",
              "                var nbb_formatted_code = \"model_fn.summary()\";\n",
              "                var nbb_cells = Jupyter.notebook.get_cells();\n",
              "                for (var i = 0; i < nbb_cells.length; ++i) {\n",
              "                    if (nbb_cells[i].input_prompt_number == nbb_cell_id) {\n",
              "                        if (nbb_cells[i].get_text() == nbb_unformatted_code) {\n",
              "                             nbb_cells[i].set_text(nbb_formatted_code);\n",
              "                        }\n",
              "                        break;\n",
              "                    }\n",
              "                }\n",
              "            }, 500);\n",
              "            "
            ],
            "text/plain": [
              "<IPython.core.display.Javascript object>"
            ]
          },
          "metadata": {},
          "output_type": "display_data"
        }
      ],
      "source": [
        "model_fn.summary()"
      ]
    },
    {
      "cell_type": "markdown",
      "metadata": {
        "id": "DAZ18Dcj2WOI"
      },
      "source": [
        "**4.** Train the new model: `model.fit(...)`\n"
      ]
    },
    {
      "cell_type": "code",
      "execution_count": null,
      "metadata": {
        "ExecuteTime": {
          "end_time": "2023-06-18T17:37:01.009629Z",
          "start_time": "2023-06-18T17:37:00.997074Z"
        },
        "id": "nxBJJ4N7n05I",
        "outputId": "965bcc10-cf29-4299-d479-9e2c3c8edbc4"
      },
      "outputs": [
        {
          "data": {
            "application/javascript": [
              "\n",
              "            setTimeout(function() {\n",
              "                var nbb_cell_id = 37;\n",
              "                var nbb_unformatted_code = \"model_fn.compile(\\n    optimizer=\\\"Adam\\\", loss=\\\"categorical_crossentropy\\\", metrics=[\\\"accuracy\\\"]\\n)\";\n",
              "                var nbb_formatted_code = \"model_fn.compile(\\n    optimizer=\\\"Adam\\\", loss=\\\"categorical_crossentropy\\\", metrics=[\\\"accuracy\\\"]\\n)\";\n",
              "                var nbb_cells = Jupyter.notebook.get_cells();\n",
              "                for (var i = 0; i < nbb_cells.length; ++i) {\n",
              "                    if (nbb_cells[i].input_prompt_number == nbb_cell_id) {\n",
              "                        if (nbb_cells[i].get_text() == nbb_unformatted_code) {\n",
              "                             nbb_cells[i].set_text(nbb_formatted_code);\n",
              "                        }\n",
              "                        break;\n",
              "                    }\n",
              "                }\n",
              "            }, 500);\n",
              "            "
            ],
            "text/plain": [
              "<IPython.core.display.Javascript object>"
            ]
          },
          "metadata": {},
          "output_type": "display_data"
        }
      ],
      "source": [
        "model_fn.compile(\n",
        "    optimizer=\"Adam\", loss=\"categorical_crossentropy\", metrics=[\"accuracy\"]\n",
        ")"
      ]
    },
    {
      "cell_type": "code",
      "execution_count": null,
      "metadata": {
        "ExecuteTime": {
          "end_time": "2023-06-18T17:55:33.022530Z",
          "start_time": "2023-06-18T17:37:01.011629Z"
        },
        "id": "wcKJJaF4n05I",
        "outputId": "403431f5-16fe-469f-95b6-dde08b463d1f"
      },
      "outputs": [
        {
          "data": {
            "image/png": "[encoded data removed]",
            "text/plain": [
              "<Figure size 1200x800 with 2 Axes>"
            ]
          },
          "metadata": {},
          "output_type": "display_data"
        },
        {
          "name": "stdout",
          "output_type": "stream",
          "text": [
            "accuracy\n",
            "\ttraining         \t (min:    0.352, max:    0.570, cur:    0.561)\n",
            "\tvalidation       \t (min:    0.093, max:    0.636, cur:    0.632)\n",
            "Loss\n",
            "\ttraining         \t (min:    1.209, max:    3.649, cur:    1.222)\n",
            "\tvalidation       \t (min:    1.069, max:  671.600, cur:    1.073)\n",
            "507/507 [==============================] - 16s 31ms/step - loss: 1.2216 - accuracy: 0.5613 - val_loss: 1.0728 - val_accuracy: 0.6320 - lr: 1.0000e-09\n",
            "Epoch 67: early stopping\n"
          ]
        },
        {
          "data": {
            "application/javascript": [
              "\n",
              "            setTimeout(function() {\n",
              "                var nbb_cell_id = 38;\n",
              "                var nbb_unformatted_code = \"history_fn = model_fn.fit(\\n    data_gen_train,\\n    validation_data=data_gen_val,\\n    epochs=200,\\n    callbacks=[\\n        cb_autosave_ft,\\n        cb_early_stop,\\n        cb_tensorboard_ft,\\n        plot_loss_1,\\n        lr_scheduler,\\n        reduce_lr,\\n    ],\\n)\";\n",
              "                var nbb_formatted_code = \"history_fn = model_fn.fit(\\n    data_gen_train,\\n    validation_data=data_gen_val,\\n    epochs=200,\\n    callbacks=[\\n        cb_autosave_ft,\\n        cb_early_stop,\\n        cb_tensorboard_ft,\\n        plot_loss_1,\\n        lr_scheduler,\\n        reduce_lr,\\n    ],\\n)\";\n",
              "                var nbb_cells = Jupyter.notebook.get_cells();\n",
              "                for (var i = 0; i < nbb_cells.length; ++i) {\n",
              "                    if (nbb_cells[i].input_prompt_number == nbb_cell_id) {\n",
              "                        if (nbb_cells[i].get_text() == nbb_unformatted_code) {\n",
              "                             nbb_cells[i].set_text(nbb_formatted_code);\n",
              "                        }\n",
              "                        break;\n",
              "                    }\n",
              "                }\n",
              "            }, 500);\n",
              "            "
            ],
            "text/plain": [
              "<IPython.core.display.Javascript object>"
            ]
          },
          "metadata": {},
          "output_type": "display_data"
        }
      ],
      "source": [
        "history_fn = model_fn.fit(\n",
        "    data_gen_train,\n",
        "    validation_data=data_gen_val,\n",
        "    epochs=200,\n",
        "    callbacks=[\n",
        "        cb_autosave_ft,\n",
        "        cb_early_stop,\n",
        "        cb_tensorboard_ft,\n",
        "        plot_loss_1,\n",
        "        lr_scheduler,\n",
        "        reduce_lr,\n",
        "    ],\n",
        ")"
      ]
    },
    {
      "cell_type": "code",
      "execution_count": null,
      "metadata": {
        "ExecuteTime": {
          "start_time": "2023-06-18T17:04:06.457Z"
        },
        "id": "IRp3wLCHn05I"
      },
      "outputs": [],
      "source": [
        "!tensorboard dev upload --logdir logs_ft --name \"Fine tuning using EuroSAT dataset\" --one_shot\n"
      ]
    },
    {
      "cell_type": "code",
      "execution_count": null,
      "metadata": {
        "ExecuteTime": {
          "end_time": "2023-06-18T17:55:47.729544Z",
          "start_time": "2023-06-18T17:55:33.028056Z"
        },
        "id": "SOL7CBT4n05J",
        "outputId": "1acdda8f-6fec-4b6b-da0c-8247d42a617e"
      },
      "outputs": [
        {
          "name": "stdout",
          "output_type": "stream",
          "text": [
            "Best model loaded from 'VGG_Model_ft.h5'\n",
            "Train:\n",
            "507/507 [==============================] - 8s 16ms/step - loss: 1.0601 - accuracy: 0.6385\n",
            "Validation:\n",
            "169/169 [==============================] - 3s 16ms/step - loss: 1.0721 - accuracy: 0.6357\n",
            "Test:\n",
            "169/169 [==============================] - 3s 17ms/step - loss: 1.0663 - accuracy: 0.6387\n"
          ]
        },
        {
          "data": {
            "application/javascript": [
              "\n",
              "            setTimeout(function() {\n",
              "                var nbb_cell_id = 39;\n",
              "                var nbb_unformatted_code = \"# Load the best model\\nbest_model_ft = load_model(\\\"VGG_Model_ft.h5\\\")\\nprint(\\\"Best model loaded from 'VGG_Model_ft.h5'\\\")\\n\\n# Evaluate on the training set\\nprint(\\\"Train:\\\")\\nscores_train_ft = best_model_ft.evaluate(data_gen_train)\\nprint(\\\"Validation:\\\")\\nscores_val_ft = best_model_ft.evaluate(data_gen_val)\\nprint(\\\"Test:\\\")\\nscores_test_ft = best_model_ft.evaluate(data_gen_test)\";\n",
              "                var nbb_formatted_code = \"# Load the best model\\nbest_model_ft = load_model(\\\"VGG_Model_ft.h5\\\")\\nprint(\\\"Best model loaded from 'VGG_Model_ft.h5'\\\")\\n\\n# Evaluate on the training set\\nprint(\\\"Train:\\\")\\nscores_train_ft = best_model_ft.evaluate(data_gen_train)\\nprint(\\\"Validation:\\\")\\nscores_val_ft = best_model_ft.evaluate(data_gen_val)\\nprint(\\\"Test:\\\")\\nscores_test_ft = best_model_ft.evaluate(data_gen_test)\";\n",
              "                var nbb_cells = Jupyter.notebook.get_cells();\n",
              "                for (var i = 0; i < nbb_cells.length; ++i) {\n",
              "                    if (nbb_cells[i].input_prompt_number == nbb_cell_id) {\n",
              "                        if (nbb_cells[i].get_text() == nbb_unformatted_code) {\n",
              "                             nbb_cells[i].set_text(nbb_formatted_code);\n",
              "                        }\n",
              "                        break;\n",
              "                    }\n",
              "                }\n",
              "            }, 500);\n",
              "            "
            ],
            "text/plain": [
              "<IPython.core.display.Javascript object>"
            ]
          },
          "metadata": {},
          "output_type": "display_data"
        }
      ],
      "source": [
        "# Load the best model\n",
        "best_model_ft = load_model(\"VGG_Model_ft.h5\")\n",
        "print(\"Best model loaded from 'VGG_Model_ft.h5'\")\n",
        "\n",
        "# Evaluate on the training set\n",
        "print(\"Train:\")\n",
        "scores_train_ft = best_model_ft.evaluate(data_gen_train)\n",
        "print(\"Validation:\")\n",
        "scores_val_ft = best_model_ft.evaluate(data_gen_val)\n",
        "print(\"Test:\")\n",
        "scores_test_ft = best_model_ft.evaluate(data_gen_test)"
      ]
    },
    {
      "cell_type": "code",
      "execution_count": null,
      "metadata": {
        "ExecuteTime": {
          "end_time": "2023-06-18T17:55:47.777643Z",
          "start_time": "2023-06-18T17:55:47.738777Z"
        },
        "id": "C7FDZ7Avn05J",
        "outputId": "89358961-9615-4c7c-d6e8-0bb36d207985"
      },
      "outputs": [
        {
          "name": "stdout",
          "output_type": "stream",
          "text": [
            "+------------+---------+------------+\n",
            "| Set        |    Loss |   Accuracy |\n",
            "+============+=========+============+\n",
            "| Train      | 1.06007 |   0.638457 |\n",
            "+------------+---------+------------+\n",
            "| Validation | 1.07213 |   0.635741 |\n",
            "+------------+---------+------------+\n",
            "| Test       | 1.06633 |   0.638704 |\n",
            "+------------+---------+------------+\n"
          ]
        },
        {
          "data": {
            "application/javascript": [
              "\n",
              "            setTimeout(function() {\n",
              "                var nbb_cell_id = 40;\n",
              "                var nbb_unformatted_code = \"# Create a table with the evaluation results\\ntable_data_ft = [\\n    [\\\"Train\\\", *scores_train_ft],\\n    [\\\"Validation\\\", *scores_val_ft],\\n    [\\\"Test\\\", *scores_test_ft],\\n]\\n\\ntable_headers = [\\\"Set\\\", \\\"Loss\\\", \\\"Accuracy\\\"]\\n\\n# Print the table\\nprint(tabulate(table_data_ft, headers=table_headers, tablefmt=\\\"grid\\\"))\";\n",
              "                var nbb_formatted_code = \"# Create a table with the evaluation results\\ntable_data_ft = [\\n    [\\\"Train\\\", *scores_train_ft],\\n    [\\\"Validation\\\", *scores_val_ft],\\n    [\\\"Test\\\", *scores_test_ft],\\n]\\n\\ntable_headers = [\\\"Set\\\", \\\"Loss\\\", \\\"Accuracy\\\"]\\n\\n# Print the table\\nprint(tabulate(table_data_ft, headers=table_headers, tablefmt=\\\"grid\\\"))\";\n",
              "                var nbb_cells = Jupyter.notebook.get_cells();\n",
              "                for (var i = 0; i < nbb_cells.length; ++i) {\n",
              "                    if (nbb_cells[i].input_prompt_number == nbb_cell_id) {\n",
              "                        if (nbb_cells[i].get_text() == nbb_unformatted_code) {\n",
              "                             nbb_cells[i].set_text(nbb_formatted_code);\n",
              "                        }\n",
              "                        break;\n",
              "                    }\n",
              "                }\n",
              "            }, 500);\n",
              "            "
            ],
            "text/plain": [
              "<IPython.core.display.Javascript object>"
            ]
          },
          "metadata": {},
          "output_type": "display_data"
        }
      ],
      "source": [
        "# Create a table with the evaluation results\n",
        "table_data_ft = [\n",
        "    [\"Train\", *scores_train_ft],\n",
        "    [\"Validation\", *scores_val_ft],\n",
        "    [\"Test\", *scores_test_ft],\n",
        "]\n",
        "\n",
        "table_headers = [\"Set\", \"Loss\", \"Accuracy\"]\n",
        "\n",
        "# Print the table\n",
        "print(tabulate(table_data_ft, headers=table_headers, tablefmt=\"grid\"))"
      ]
    },
    {
      "cell_type": "markdown",
      "metadata": {
        "id": "poQeLLQA2bTG"
      },
      "source": [
        "  **5.** $trainable\\_parameters = head\\_parameters + base\\_model\\_parameters $"
      ]
    },
    {
      "cell_type": "code",
      "execution_count": null,
      "metadata": {
        "id": "mRLeQzUxMzu9"
      },
      "outputs": [],
      "source": []
    },
    {
      "cell_type": "code",
      "execution_count": null,
      "metadata": {
        "id": "ggpCJXbSMzu-"
      },
      "outputs": [],
      "source": []
    }
  ],
  "metadata": {
    "colab": {
      "collapsed_sections": [
        "ojJa7RUApi3L",
        "o0JRDMT9yuRd",
        "GofutGvjtSOZ",
        "1lHJ0P-gtWmW",
        "kanUzPrltfD4",
        "H0icG9OIvHcc",
        "yYyU6UOwy4kK",
        "EbJM8HtezDHg",
        "miYBw0ghtcI-",
        "J56zeInPzzHG"
      ],
      "provenance": [],
      "include_colab_link": true
    },
    "kernelspec": {
      "display_name": "Python 3 (ipykernel)",
      "language": "python",
      "name": "python3"
    },
    "language_info": {
      "codemirror_mode": {
        "name": "ipython",
        "version": 3
      },
      "file_extension": ".py",
      "mimetype": "text/x-python",
      "name": "python",
      "nbconvert_exporter": "python",
      "pygments_lexer": "ipython3",
      "version": "3.9.16"
    },
    "toc": {
      "base_numbering": 1,
      "nav_menu": {
        "height": "318px",
        "width": "272px"
      },
      "number_sections": true,
      "sideBar": true,
      "skip_h1_title": false,
      "title_cell": "Table of Contents",
      "title_sidebar": "Contents",
      "toc_cell": true,
      "toc_position": {
        "height": "calc(100% - 180px)",
        "left": "10px",
        "top": "150px",
        "width": "238.225px"
      },
      "toc_section_display": true,
      "toc_window_display": false
    }
  },
  "nbformat": 4,
  "nbformat_minor": 0
}